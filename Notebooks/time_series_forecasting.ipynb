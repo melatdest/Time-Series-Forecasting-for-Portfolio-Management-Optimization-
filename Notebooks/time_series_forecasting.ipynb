{
  "nbformat": 4,
  "nbformat_minor": 0,
  "metadata": {
    "colab": {
      "provenance": [],
      "authorship_tag": "ABX9TyMyRUXtbaVDwF2DbJp3pHB5",
      "include_colab_link": true
    },
    "kernelspec": {
      "name": "python3",
      "display_name": "Python 3"
    },
    "language_info": {
      "name": "python"
    }
  },
  "cells": [
    {
      "cell_type": "markdown",
      "metadata": {
        "id": "view-in-github",
        "colab_type": "text"
      },
      "source": [
        "<a href=\"https://colab.research.google.com/github/Akeab-tame/GMF-Investment-Strategies/blob/main/time_series_forecasting.ipynb\" target=\"_parent\"><img src=\"https://colab.research.google.com/assets/colab-badge.svg\" alt=\"Open In Colab\"/></a>"
      ]
    },
    {
      "cell_type": "code",
      "execution_count": 1,
      "metadata": {
        "colab": {
          "base_uri": "https://localhost:8080/"
        },
        "id": "97K7gi3wFf_M",
        "outputId": "550e81b1-e5a4-4699-a917-53336ef9f47d"
      },
      "outputs": [
        {
          "output_type": "stream",
          "name": "stdout",
          "text": [
            "Collecting pmdarima\n",
            "  Downloading pmdarima-2.0.4-cp310-cp310-manylinux_2_17_x86_64.manylinux2014_x86_64.manylinux_2_28_x86_64.whl.metadata (7.8 kB)\n",
            "Requirement already satisfied: joblib>=0.11 in /usr/local/lib/python3.10/dist-packages (from pmdarima) (1.4.2)\n",
            "Requirement already satisfied: Cython!=0.29.18,!=0.29.31,>=0.29 in /usr/local/lib/python3.10/dist-packages (from pmdarima) (3.0.11)\n",
            "Requirement already satisfied: numpy>=1.21.2 in /usr/local/lib/python3.10/dist-packages (from pmdarima) (1.26.4)\n",
            "Requirement already satisfied: pandas>=0.19 in /usr/local/lib/python3.10/dist-packages (from pmdarima) (2.2.2)\n",
            "Requirement already satisfied: scikit-learn>=0.22 in /usr/local/lib/python3.10/dist-packages (from pmdarima) (1.5.2)\n",
            "Requirement already satisfied: scipy>=1.3.2 in /usr/local/lib/python3.10/dist-packages (from pmdarima) (1.13.1)\n",
            "Requirement already satisfied: statsmodels>=0.13.2 in /usr/local/lib/python3.10/dist-packages (from pmdarima) (0.14.4)\n",
            "Requirement already satisfied: urllib3 in /usr/local/lib/python3.10/dist-packages (from pmdarima) (2.2.3)\n",
            "Requirement already satisfied: setuptools!=50.0.0,>=38.6.0 in /usr/local/lib/python3.10/dist-packages (from pmdarima) (75.1.0)\n",
            "Requirement already satisfied: packaging>=17.1 in /usr/local/lib/python3.10/dist-packages (from pmdarima) (24.1)\n",
            "Requirement already satisfied: python-dateutil>=2.8.2 in /usr/local/lib/python3.10/dist-packages (from pandas>=0.19->pmdarima) (2.8.2)\n",
            "Requirement already satisfied: pytz>=2020.1 in /usr/local/lib/python3.10/dist-packages (from pandas>=0.19->pmdarima) (2024.2)\n",
            "Requirement already satisfied: tzdata>=2022.7 in /usr/local/lib/python3.10/dist-packages (from pandas>=0.19->pmdarima) (2024.2)\n",
            "Requirement already satisfied: threadpoolctl>=3.1.0 in /usr/local/lib/python3.10/dist-packages (from scikit-learn>=0.22->pmdarima) (3.5.0)\n",
            "Requirement already satisfied: patsy>=0.5.6 in /usr/local/lib/python3.10/dist-packages (from statsmodels>=0.13.2->pmdarima) (0.5.6)\n",
            "Requirement already satisfied: six in /usr/local/lib/python3.10/dist-packages (from patsy>=0.5.6->statsmodels>=0.13.2->pmdarima) (1.16.0)\n",
            "Downloading pmdarima-2.0.4-cp310-cp310-manylinux_2_17_x86_64.manylinux2014_x86_64.manylinux_2_28_x86_64.whl (2.1 MB)\n",
            "\u001b[2K   \u001b[90m━━━━━━━━━━━━━━━━━━━━━━━━━━━━━━━━━━━━━━━━\u001b[0m \u001b[32m2.1/2.1 MB\u001b[0m \u001b[31m21.8 MB/s\u001b[0m eta \u001b[36m0:00:00\u001b[0m\n",
            "\u001b[?25hInstalling collected packages: pmdarima\n",
            "Successfully installed pmdarima-2.0.4\n"
          ]
        }
      ],
      "source": [
        "!pip install pmdarima"
      ]
    },
    {
      "cell_type": "code",
      "source": [
        "import numpy as np\n",
        "import pandas as pd\n",
        "import matplotlib.pyplot as plt\n",
        "from statsmodels.tsa.arima.model import ARIMA\n",
        "from statsmodels.tsa.statespace.sarimax import SARIMAX\n",
        "from sklearn.metrics import mean_squared_error, mean_absolute_percentage_error\n",
        "from sklearn.metrics import mean_absolute_error, mean_squared_error, mean_absolute_percentage_error,r2_score\n",
        "from math import sqrt\n",
        "from tensorflow.keras.models import Sequential\n",
        "from tensorflow.keras.layers import LSTM, Dense\n",
        "from statsmodels.tsa.stattools import adfuller\n",
        "from statsmodels.graphics.tsaplots import plot_acf, plot_pacf"
      ],
      "metadata": {
        "id": "0wFxK5I4Nq0v"
      },
      "execution_count": 33,
      "outputs": []
    },
    {
      "cell_type": "code",
      "source": [
        "import pandas as pd\n",
        "data = pd.read_csv('TSLA.csv')\n",
        "data1 = pd.read_csv('BND.csv')\n",
        "data2 = pd.read_csv('SPY.csv')"
      ],
      "metadata": {
        "id": "FIm8D__PJxP9"
      },
      "execution_count": 5,
      "outputs": []
    },
    {
      "cell_type": "code",
      "source": [
        "data.head()"
      ],
      "metadata": {
        "colab": {
          "base_uri": "https://localhost:8080/",
          "height": 310
        },
        "id": "zQRzlDfJKmAR",
        "outputId": "c0f405a3-204d-4e8a-a418-e833f36c7ba9"
      },
      "execution_count": 6,
      "outputs": [
        {
          "output_type": "execute_result",
          "data": {
            "text/plain": [
              "                        Date  Adj Close      Close       High        Low  \\\n",
              "0  2015-01-02 00:00:00+00:00  14.620667  14.620667  14.883333  14.217333   \n",
              "1  2015-01-05 00:00:00+00:00  14.006000  14.006000  14.433333  13.810667   \n",
              "2  2015-01-06 00:00:00+00:00  14.085333  14.085333  14.280000  13.614000   \n",
              "3  2015-01-07 00:00:00+00:00  14.063333  14.063333  14.318667  13.985333   \n",
              "4  2015-01-08 00:00:00+00:00  14.041333  14.041333  14.253333  14.000667   \n",
              "\n",
              "        Open    Volume  \n",
              "0  14.858000  71466000  \n",
              "1  14.303333  80527500  \n",
              "2  14.004000  93928500  \n",
              "3  14.223333  44526000  \n",
              "4  14.187333  51637500  "
            ],
            "text/html": [
              "\n",
              "  <div id=\"df-edd4f102-6366-4ab6-88ab-7587d7e8c477\" class=\"colab-df-container\">\n",
              "    <div>\n",
              "<style scoped>\n",
              "    .dataframe tbody tr th:only-of-type {\n",
              "        vertical-align: middle;\n",
              "    }\n",
              "\n",
              "    .dataframe tbody tr th {\n",
              "        vertical-align: top;\n",
              "    }\n",
              "\n",
              "    .dataframe thead th {\n",
              "        text-align: right;\n",
              "    }\n",
              "</style>\n",
              "<table border=\"1\" class=\"dataframe\">\n",
              "  <thead>\n",
              "    <tr style=\"text-align: right;\">\n",
              "      <th></th>\n",
              "      <th>Date</th>\n",
              "      <th>Adj Close</th>\n",
              "      <th>Close</th>\n",
              "      <th>High</th>\n",
              "      <th>Low</th>\n",
              "      <th>Open</th>\n",
              "      <th>Volume</th>\n",
              "    </tr>\n",
              "  </thead>\n",
              "  <tbody>\n",
              "    <tr>\n",
              "      <th>0</th>\n",
              "      <td>2015-01-02 00:00:00+00:00</td>\n",
              "      <td>14.620667</td>\n",
              "      <td>14.620667</td>\n",
              "      <td>14.883333</td>\n",
              "      <td>14.217333</td>\n",
              "      <td>14.858000</td>\n",
              "      <td>71466000</td>\n",
              "    </tr>\n",
              "    <tr>\n",
              "      <th>1</th>\n",
              "      <td>2015-01-05 00:00:00+00:00</td>\n",
              "      <td>14.006000</td>\n",
              "      <td>14.006000</td>\n",
              "      <td>14.433333</td>\n",
              "      <td>13.810667</td>\n",
              "      <td>14.303333</td>\n",
              "      <td>80527500</td>\n",
              "    </tr>\n",
              "    <tr>\n",
              "      <th>2</th>\n",
              "      <td>2015-01-06 00:00:00+00:00</td>\n",
              "      <td>14.085333</td>\n",
              "      <td>14.085333</td>\n",
              "      <td>14.280000</td>\n",
              "      <td>13.614000</td>\n",
              "      <td>14.004000</td>\n",
              "      <td>93928500</td>\n",
              "    </tr>\n",
              "    <tr>\n",
              "      <th>3</th>\n",
              "      <td>2015-01-07 00:00:00+00:00</td>\n",
              "      <td>14.063333</td>\n",
              "      <td>14.063333</td>\n",
              "      <td>14.318667</td>\n",
              "      <td>13.985333</td>\n",
              "      <td>14.223333</td>\n",
              "      <td>44526000</td>\n",
              "    </tr>\n",
              "    <tr>\n",
              "      <th>4</th>\n",
              "      <td>2015-01-08 00:00:00+00:00</td>\n",
              "      <td>14.041333</td>\n",
              "      <td>14.041333</td>\n",
              "      <td>14.253333</td>\n",
              "      <td>14.000667</td>\n",
              "      <td>14.187333</td>\n",
              "      <td>51637500</td>\n",
              "    </tr>\n",
              "  </tbody>\n",
              "</table>\n",
              "</div>\n",
              "    <div class=\"colab-df-buttons\">\n",
              "\n",
              "  <div class=\"colab-df-container\">\n",
              "    <button class=\"colab-df-convert\" onclick=\"convertToInteractive('df-edd4f102-6366-4ab6-88ab-7587d7e8c477')\"\n",
              "            title=\"Convert this dataframe to an interactive table.\"\n",
              "            style=\"display:none;\">\n",
              "\n",
              "  <svg xmlns=\"http://www.w3.org/2000/svg\" height=\"24px\" viewBox=\"0 -960 960 960\">\n",
              "    <path d=\"M120-120v-720h720v720H120Zm60-500h600v-160H180v160Zm220 220h160v-160H400v160Zm0 220h160v-160H400v160ZM180-400h160v-160H180v160Zm440 0h160v-160H620v160ZM180-180h160v-160H180v160Zm440 0h160v-160H620v160Z\"/>\n",
              "  </svg>\n",
              "    </button>\n",
              "\n",
              "  <style>\n",
              "    .colab-df-container {\n",
              "      display:flex;\n",
              "      gap: 12px;\n",
              "    }\n",
              "\n",
              "    .colab-df-convert {\n",
              "      background-color: #E8F0FE;\n",
              "      border: none;\n",
              "      border-radius: 50%;\n",
              "      cursor: pointer;\n",
              "      display: none;\n",
              "      fill: #1967D2;\n",
              "      height: 32px;\n",
              "      padding: 0 0 0 0;\n",
              "      width: 32px;\n",
              "    }\n",
              "\n",
              "    .colab-df-convert:hover {\n",
              "      background-color: #E2EBFA;\n",
              "      box-shadow: 0px 1px 2px rgba(60, 64, 67, 0.3), 0px 1px 3px 1px rgba(60, 64, 67, 0.15);\n",
              "      fill: #174EA6;\n",
              "    }\n",
              "\n",
              "    .colab-df-buttons div {\n",
              "      margin-bottom: 4px;\n",
              "    }\n",
              "\n",
              "    [theme=dark] .colab-df-convert {\n",
              "      background-color: #3B4455;\n",
              "      fill: #D2E3FC;\n",
              "    }\n",
              "\n",
              "    [theme=dark] .colab-df-convert:hover {\n",
              "      background-color: #434B5C;\n",
              "      box-shadow: 0px 1px 3px 1px rgba(0, 0, 0, 0.15);\n",
              "      filter: drop-shadow(0px 1px 2px rgba(0, 0, 0, 0.3));\n",
              "      fill: #FFFFFF;\n",
              "    }\n",
              "  </style>\n",
              "\n",
              "    <script>\n",
              "      const buttonEl =\n",
              "        document.querySelector('#df-edd4f102-6366-4ab6-88ab-7587d7e8c477 button.colab-df-convert');\n",
              "      buttonEl.style.display =\n",
              "        google.colab.kernel.accessAllowed ? 'block' : 'none';\n",
              "\n",
              "      async function convertToInteractive(key) {\n",
              "        const element = document.querySelector('#df-edd4f102-6366-4ab6-88ab-7587d7e8c477');\n",
              "        const dataTable =\n",
              "          await google.colab.kernel.invokeFunction('convertToInteractive',\n",
              "                                                    [key], {});\n",
              "        if (!dataTable) return;\n",
              "\n",
              "        const docLinkHtml = 'Like what you see? Visit the ' +\n",
              "          '<a target=\"_blank\" href=https://colab.research.google.com/notebooks/data_table.ipynb>data table notebook</a>'\n",
              "          + ' to learn more about interactive tables.';\n",
              "        element.innerHTML = '';\n",
              "        dataTable['output_type'] = 'display_data';\n",
              "        await google.colab.output.renderOutput(dataTable, element);\n",
              "        const docLink = document.createElement('div');\n",
              "        docLink.innerHTML = docLinkHtml;\n",
              "        element.appendChild(docLink);\n",
              "      }\n",
              "    </script>\n",
              "  </div>\n",
              "\n",
              "\n",
              "<div id=\"df-4b7e3e95-fb69-4a5b-ad3e-5c85ba7fbef9\">\n",
              "  <button class=\"colab-df-quickchart\" onclick=\"quickchart('df-4b7e3e95-fb69-4a5b-ad3e-5c85ba7fbef9')\"\n",
              "            title=\"Suggest charts\"\n",
              "            style=\"display:none;\">\n",
              "\n",
              "<svg xmlns=\"http://www.w3.org/2000/svg\" height=\"24px\"viewBox=\"0 0 24 24\"\n",
              "     width=\"24px\">\n",
              "    <g>\n",
              "        <path d=\"M19 3H5c-1.1 0-2 .9-2 2v14c0 1.1.9 2 2 2h14c1.1 0 2-.9 2-2V5c0-1.1-.9-2-2-2zM9 17H7v-7h2v7zm4 0h-2V7h2v10zm4 0h-2v-4h2v4z\"/>\n",
              "    </g>\n",
              "</svg>\n",
              "  </button>\n",
              "\n",
              "<style>\n",
              "  .colab-df-quickchart {\n",
              "      --bg-color: #E8F0FE;\n",
              "      --fill-color: #1967D2;\n",
              "      --hover-bg-color: #E2EBFA;\n",
              "      --hover-fill-color: #174EA6;\n",
              "      --disabled-fill-color: #AAA;\n",
              "      --disabled-bg-color: #DDD;\n",
              "  }\n",
              "\n",
              "  [theme=dark] .colab-df-quickchart {\n",
              "      --bg-color: #3B4455;\n",
              "      --fill-color: #D2E3FC;\n",
              "      --hover-bg-color: #434B5C;\n",
              "      --hover-fill-color: #FFFFFF;\n",
              "      --disabled-bg-color: #3B4455;\n",
              "      --disabled-fill-color: #666;\n",
              "  }\n",
              "\n",
              "  .colab-df-quickchart {\n",
              "    background-color: var(--bg-color);\n",
              "    border: none;\n",
              "    border-radius: 50%;\n",
              "    cursor: pointer;\n",
              "    display: none;\n",
              "    fill: var(--fill-color);\n",
              "    height: 32px;\n",
              "    padding: 0;\n",
              "    width: 32px;\n",
              "  }\n",
              "\n",
              "  .colab-df-quickchart:hover {\n",
              "    background-color: var(--hover-bg-color);\n",
              "    box-shadow: 0 1px 2px rgba(60, 64, 67, 0.3), 0 1px 3px 1px rgba(60, 64, 67, 0.15);\n",
              "    fill: var(--button-hover-fill-color);\n",
              "  }\n",
              "\n",
              "  .colab-df-quickchart-complete:disabled,\n",
              "  .colab-df-quickchart-complete:disabled:hover {\n",
              "    background-color: var(--disabled-bg-color);\n",
              "    fill: var(--disabled-fill-color);\n",
              "    box-shadow: none;\n",
              "  }\n",
              "\n",
              "  .colab-df-spinner {\n",
              "    border: 2px solid var(--fill-color);\n",
              "    border-color: transparent;\n",
              "    border-bottom-color: var(--fill-color);\n",
              "    animation:\n",
              "      spin 1s steps(1) infinite;\n",
              "  }\n",
              "\n",
              "  @keyframes spin {\n",
              "    0% {\n",
              "      border-color: transparent;\n",
              "      border-bottom-color: var(--fill-color);\n",
              "      border-left-color: var(--fill-color);\n",
              "    }\n",
              "    20% {\n",
              "      border-color: transparent;\n",
              "      border-left-color: var(--fill-color);\n",
              "      border-top-color: var(--fill-color);\n",
              "    }\n",
              "    30% {\n",
              "      border-color: transparent;\n",
              "      border-left-color: var(--fill-color);\n",
              "      border-top-color: var(--fill-color);\n",
              "      border-right-color: var(--fill-color);\n",
              "    }\n",
              "    40% {\n",
              "      border-color: transparent;\n",
              "      border-right-color: var(--fill-color);\n",
              "      border-top-color: var(--fill-color);\n",
              "    }\n",
              "    60% {\n",
              "      border-color: transparent;\n",
              "      border-right-color: var(--fill-color);\n",
              "    }\n",
              "    80% {\n",
              "      border-color: transparent;\n",
              "      border-right-color: var(--fill-color);\n",
              "      border-bottom-color: var(--fill-color);\n",
              "    }\n",
              "    90% {\n",
              "      border-color: transparent;\n",
              "      border-bottom-color: var(--fill-color);\n",
              "    }\n",
              "  }\n",
              "</style>\n",
              "\n",
              "  <script>\n",
              "    async function quickchart(key) {\n",
              "      const quickchartButtonEl =\n",
              "        document.querySelector('#' + key + ' button');\n",
              "      quickchartButtonEl.disabled = true;  // To prevent multiple clicks.\n",
              "      quickchartButtonEl.classList.add('colab-df-spinner');\n",
              "      try {\n",
              "        const charts = await google.colab.kernel.invokeFunction(\n",
              "            'suggestCharts', [key], {});\n",
              "      } catch (error) {\n",
              "        console.error('Error during call to suggestCharts:', error);\n",
              "      }\n",
              "      quickchartButtonEl.classList.remove('colab-df-spinner');\n",
              "      quickchartButtonEl.classList.add('colab-df-quickchart-complete');\n",
              "    }\n",
              "    (() => {\n",
              "      let quickchartButtonEl =\n",
              "        document.querySelector('#df-4b7e3e95-fb69-4a5b-ad3e-5c85ba7fbef9 button');\n",
              "      quickchartButtonEl.style.display =\n",
              "        google.colab.kernel.accessAllowed ? 'block' : 'none';\n",
              "    })();\n",
              "  </script>\n",
              "</div>\n",
              "\n",
              "    </div>\n",
              "  </div>\n"
            ],
            "application/vnd.google.colaboratory.intrinsic+json": {
              "type": "dataframe",
              "variable_name": "data",
              "summary": "{\n  \"name\": \"data\",\n  \"rows\": 2474,\n  \"fields\": [\n    {\n      \"column\": \"Date\",\n      \"properties\": {\n        \"dtype\": \"object\",\n        \"num_unique_values\": 2474,\n        \"samples\": [\n          \"2018-06-21 00:00:00+00:00\",\n          \"2023-02-06 00:00:00+00:00\",\n          \"2018-10-12 00:00:00+00:00\"\n        ],\n        \"semantic_type\": \"\",\n        \"description\": \"\"\n      }\n    },\n    {\n      \"column\": \"Adj Close\",\n      \"properties\": {\n        \"dtype\": \"number\",\n        \"std\": 110.12044961166932,\n        \"min\": 9.57800006866455,\n        \"max\": 409.9700012207031,\n        \"num_unique_values\": 2421,\n        \"samples\": [\n          13.51533317565918,\n          20.525333404541016,\n          244.13999938964844\n        ],\n        \"semantic_type\": \"\",\n        \"description\": \"\"\n      }\n    },\n    {\n      \"column\": \"Close\",\n      \"properties\": {\n        \"dtype\": \"number\",\n        \"std\": 110.12044961166932,\n        \"min\": 9.57800006866455,\n        \"max\": 409.9700012207031,\n        \"num_unique_values\": 2421,\n        \"samples\": [\n          13.51533317565918,\n          20.525333404541016,\n          244.13999938964844\n        ],\n        \"semantic_type\": \"\",\n        \"description\": \"\"\n      }\n    },\n    {\n      \"column\": \"High\",\n      \"properties\": {\n        \"dtype\": \"number\",\n        \"std\": 112.64327733623803,\n        \"min\": 10.33133316040039,\n        \"max\": 414.4966735839844,\n        \"num_unique_values\": 2356,\n        \"samples\": [\n          23.809999465942383,\n          37.62933349609375,\n          357.4599914550781\n        ],\n        \"semantic_type\": \"\",\n        \"description\": \"\"\n      }\n    },\n    {\n      \"column\": \"Low\",\n      \"properties\": {\n        \"dtype\": \"number\",\n        \"std\": 107.54182975751317,\n        \"min\": 9.403332710266112,\n        \"max\": 405.6666564941406,\n        \"num_unique_values\": 2376,\n        \"samples\": [\n          272.8800048828125,\n          236.88999938964844,\n          16.420000076293945\n        ],\n        \"semantic_type\": \"\",\n        \"description\": \"\"\n      }\n    },\n    {\n      \"column\": \"Open\",\n      \"properties\": {\n        \"dtype\": \"number\",\n        \"std\": 110.20815592054188,\n        \"min\": 9.48799991607666,\n        \"max\": 411.4700012207031,\n        \"num_unique_values\": 2360,\n        \"samples\": [\n          22.631999969482425,\n          16.279333114624023,\n          176.38999938964844\n        ],\n        \"semantic_type\": \"\",\n        \"description\": \"\"\n      }\n    },\n    {\n      \"column\": \"Volume\",\n      \"properties\": {\n        \"dtype\": \"number\",\n        \"std\": 74496189,\n        \"min\": 10620000,\n        \"max\": 914082000,\n        \"num_unique_values\": 2464,\n        \"samples\": [\n          21334500,\n          102629300,\n          64462500\n        ],\n        \"semantic_type\": \"\",\n        \"description\": \"\"\n      }\n    }\n  ]\n}"
            }
          },
          "metadata": {},
          "execution_count": 6
        }
      ]
    },
    {
      "cell_type": "markdown",
      "source": [
        "## Load the preprocessed data"
      ],
      "metadata": {
        "id": "GXe2mPM9KzPy"
      }
    },
    {
      "cell_type": "code",
      "source": [
        "data = pd.read_csv('cleaned_Tsla.csv')\n",
        "data1 = pd.read_csv('cleaned_bnd.csv')\n",
        "data2 = pd.read_csv('cleaned_spy.csv')"
      ],
      "metadata": {
        "id": "snF9v3uAKxvJ"
      },
      "execution_count": 19,
      "outputs": []
    },
    {
      "cell_type": "markdown",
      "source": [],
      "metadata": {
        "id": "LnbOUGkNM01e"
      }
    },
    {
      "cell_type": "code",
      "source": [
        "data.fillna(0, inplace=True)\n",
        "data1.fillna(0, inplace=True)\n",
        "data2.fillna(0, inplace=True)"
      ],
      "metadata": {
        "id": "GnayRemXLC2k"
      },
      "execution_count": 22,
      "outputs": []
    },
    {
      "cell_type": "code",
      "source": [
        "data"
      ],
      "metadata": {
        "colab": {
          "base_uri": "https://localhost:8080/",
          "height": 652
        },
        "id": "_CNH-fJ1LmjZ",
        "outputId": "bccd583b-12a4-4108-8ce8-4d7d91b592ff"
      },
      "execution_count": 23,
      "outputs": [
        {
          "output_type": "execute_result",
          "data": {
            "text/plain": [
              "      Unnamed: 0                       Date   Adj Close       Close  \\\n",
              "0              0  2015-01-02 00:00:00+00:00   14.620667   14.620667   \n",
              "1              1  2015-01-05 00:00:00+00:00   14.006000   14.006000   \n",
              "2              2  2015-01-06 00:00:00+00:00   14.085333   14.085333   \n",
              "3              3  2015-01-07 00:00:00+00:00   14.063333   14.063333   \n",
              "4              4  2015-01-08 00:00:00+00:00   14.041333   14.041333   \n",
              "...          ...                        ...         ...         ...   \n",
              "2469        2469  2024-10-24 00:00:00+00:00  260.480011  260.480011   \n",
              "2470        2470  2024-10-25 00:00:00+00:00  269.190002  269.190002   \n",
              "2471        2471  2024-10-28 00:00:00+00:00  262.510010  262.510010   \n",
              "2472        2472  2024-10-29 00:00:00+00:00  259.519989  259.519989   \n",
              "2473        2473  2024-10-30 00:00:00+00:00  257.549988  257.549988   \n",
              "\n",
              "            High         Low        Open     Volume  Daily Change TSLA  \\\n",
              "0      14.883333   14.217333   14.858000   71466000           0.000000   \n",
              "1      14.433333   13.810667   14.303333   80527500          -4.204103   \n",
              "2      14.280000   13.614000   14.004000   93928500           0.566424   \n",
              "3      14.318667   13.985333   14.223333   44526000          -0.156193   \n",
              "4      14.253333   14.000667   14.187333   51637500          -0.156431   \n",
              "...          ...         ...         ...        ...                ...   \n",
              "2469  262.119995  242.649994  244.679993  204491900          21.919035   \n",
              "2470  269.489990  255.320007  256.010010  161611900           3.343823   \n",
              "2471  273.540009  262.239990  270.000000  107653600          -2.481516   \n",
              "2472  264.980011  255.509995  264.510010   80521800          -1.139012   \n",
              "2473  263.350006  255.820007  258.040009   53993600          -0.759094   \n",
              "\n",
              "      Rolling Mean TSLA  Rolling Std TSLA  \n",
              "0              0.000000          0.000000  \n",
              "1              0.000000          0.000000  \n",
              "2              0.000000          0.000000  \n",
              "3              0.000000          0.000000  \n",
              "4              0.000000          0.000000  \n",
              "...                 ...               ...  \n",
              "2469         235.771001         17.072037  \n",
              "2470         236.207502         17.831237  \n",
              "2471         236.251502         17.898231  \n",
              "2472         236.326502         17.997119  \n",
              "2473         236.753001         18.410099  \n",
              "\n",
              "[2474 rows x 11 columns]"
            ],
            "text/html": [
              "\n",
              "  <div id=\"df-577f6fac-7081-4af0-922f-88a4528d1001\" class=\"colab-df-container\">\n",
              "    <div>\n",
              "<style scoped>\n",
              "    .dataframe tbody tr th:only-of-type {\n",
              "        vertical-align: middle;\n",
              "    }\n",
              "\n",
              "    .dataframe tbody tr th {\n",
              "        vertical-align: top;\n",
              "    }\n",
              "\n",
              "    .dataframe thead th {\n",
              "        text-align: right;\n",
              "    }\n",
              "</style>\n",
              "<table border=\"1\" class=\"dataframe\">\n",
              "  <thead>\n",
              "    <tr style=\"text-align: right;\">\n",
              "      <th></th>\n",
              "      <th>Unnamed: 0</th>\n",
              "      <th>Date</th>\n",
              "      <th>Adj Close</th>\n",
              "      <th>Close</th>\n",
              "      <th>High</th>\n",
              "      <th>Low</th>\n",
              "      <th>Open</th>\n",
              "      <th>Volume</th>\n",
              "      <th>Daily Change TSLA</th>\n",
              "      <th>Rolling Mean TSLA</th>\n",
              "      <th>Rolling Std TSLA</th>\n",
              "    </tr>\n",
              "  </thead>\n",
              "  <tbody>\n",
              "    <tr>\n",
              "      <th>0</th>\n",
              "      <td>0</td>\n",
              "      <td>2015-01-02 00:00:00+00:00</td>\n",
              "      <td>14.620667</td>\n",
              "      <td>14.620667</td>\n",
              "      <td>14.883333</td>\n",
              "      <td>14.217333</td>\n",
              "      <td>14.858000</td>\n",
              "      <td>71466000</td>\n",
              "      <td>0.000000</td>\n",
              "      <td>0.000000</td>\n",
              "      <td>0.000000</td>\n",
              "    </tr>\n",
              "    <tr>\n",
              "      <th>1</th>\n",
              "      <td>1</td>\n",
              "      <td>2015-01-05 00:00:00+00:00</td>\n",
              "      <td>14.006000</td>\n",
              "      <td>14.006000</td>\n",
              "      <td>14.433333</td>\n",
              "      <td>13.810667</td>\n",
              "      <td>14.303333</td>\n",
              "      <td>80527500</td>\n",
              "      <td>-4.204103</td>\n",
              "      <td>0.000000</td>\n",
              "      <td>0.000000</td>\n",
              "    </tr>\n",
              "    <tr>\n",
              "      <th>2</th>\n",
              "      <td>2</td>\n",
              "      <td>2015-01-06 00:00:00+00:00</td>\n",
              "      <td>14.085333</td>\n",
              "      <td>14.085333</td>\n",
              "      <td>14.280000</td>\n",
              "      <td>13.614000</td>\n",
              "      <td>14.004000</td>\n",
              "      <td>93928500</td>\n",
              "      <td>0.566424</td>\n",
              "      <td>0.000000</td>\n",
              "      <td>0.000000</td>\n",
              "    </tr>\n",
              "    <tr>\n",
              "      <th>3</th>\n",
              "      <td>3</td>\n",
              "      <td>2015-01-07 00:00:00+00:00</td>\n",
              "      <td>14.063333</td>\n",
              "      <td>14.063333</td>\n",
              "      <td>14.318667</td>\n",
              "      <td>13.985333</td>\n",
              "      <td>14.223333</td>\n",
              "      <td>44526000</td>\n",
              "      <td>-0.156193</td>\n",
              "      <td>0.000000</td>\n",
              "      <td>0.000000</td>\n",
              "    </tr>\n",
              "    <tr>\n",
              "      <th>4</th>\n",
              "      <td>4</td>\n",
              "      <td>2015-01-08 00:00:00+00:00</td>\n",
              "      <td>14.041333</td>\n",
              "      <td>14.041333</td>\n",
              "      <td>14.253333</td>\n",
              "      <td>14.000667</td>\n",
              "      <td>14.187333</td>\n",
              "      <td>51637500</td>\n",
              "      <td>-0.156431</td>\n",
              "      <td>0.000000</td>\n",
              "      <td>0.000000</td>\n",
              "    </tr>\n",
              "    <tr>\n",
              "      <th>...</th>\n",
              "      <td>...</td>\n",
              "      <td>...</td>\n",
              "      <td>...</td>\n",
              "      <td>...</td>\n",
              "      <td>...</td>\n",
              "      <td>...</td>\n",
              "      <td>...</td>\n",
              "      <td>...</td>\n",
              "      <td>...</td>\n",
              "      <td>...</td>\n",
              "      <td>...</td>\n",
              "    </tr>\n",
              "    <tr>\n",
              "      <th>2469</th>\n",
              "      <td>2469</td>\n",
              "      <td>2024-10-24 00:00:00+00:00</td>\n",
              "      <td>260.480011</td>\n",
              "      <td>260.480011</td>\n",
              "      <td>262.119995</td>\n",
              "      <td>242.649994</td>\n",
              "      <td>244.679993</td>\n",
              "      <td>204491900</td>\n",
              "      <td>21.919035</td>\n",
              "      <td>235.771001</td>\n",
              "      <td>17.072037</td>\n",
              "    </tr>\n",
              "    <tr>\n",
              "      <th>2470</th>\n",
              "      <td>2470</td>\n",
              "      <td>2024-10-25 00:00:00+00:00</td>\n",
              "      <td>269.190002</td>\n",
              "      <td>269.190002</td>\n",
              "      <td>269.489990</td>\n",
              "      <td>255.320007</td>\n",
              "      <td>256.010010</td>\n",
              "      <td>161611900</td>\n",
              "      <td>3.343823</td>\n",
              "      <td>236.207502</td>\n",
              "      <td>17.831237</td>\n",
              "    </tr>\n",
              "    <tr>\n",
              "      <th>2471</th>\n",
              "      <td>2471</td>\n",
              "      <td>2024-10-28 00:00:00+00:00</td>\n",
              "      <td>262.510010</td>\n",
              "      <td>262.510010</td>\n",
              "      <td>273.540009</td>\n",
              "      <td>262.239990</td>\n",
              "      <td>270.000000</td>\n",
              "      <td>107653600</td>\n",
              "      <td>-2.481516</td>\n",
              "      <td>236.251502</td>\n",
              "      <td>17.898231</td>\n",
              "    </tr>\n",
              "    <tr>\n",
              "      <th>2472</th>\n",
              "      <td>2472</td>\n",
              "      <td>2024-10-29 00:00:00+00:00</td>\n",
              "      <td>259.519989</td>\n",
              "      <td>259.519989</td>\n",
              "      <td>264.980011</td>\n",
              "      <td>255.509995</td>\n",
              "      <td>264.510010</td>\n",
              "      <td>80521800</td>\n",
              "      <td>-1.139012</td>\n",
              "      <td>236.326502</td>\n",
              "      <td>17.997119</td>\n",
              "    </tr>\n",
              "    <tr>\n",
              "      <th>2473</th>\n",
              "      <td>2473</td>\n",
              "      <td>2024-10-30 00:00:00+00:00</td>\n",
              "      <td>257.549988</td>\n",
              "      <td>257.549988</td>\n",
              "      <td>263.350006</td>\n",
              "      <td>255.820007</td>\n",
              "      <td>258.040009</td>\n",
              "      <td>53993600</td>\n",
              "      <td>-0.759094</td>\n",
              "      <td>236.753001</td>\n",
              "      <td>18.410099</td>\n",
              "    </tr>\n",
              "  </tbody>\n",
              "</table>\n",
              "<p>2474 rows × 11 columns</p>\n",
              "</div>\n",
              "    <div class=\"colab-df-buttons\">\n",
              "\n",
              "  <div class=\"colab-df-container\">\n",
              "    <button class=\"colab-df-convert\" onclick=\"convertToInteractive('df-577f6fac-7081-4af0-922f-88a4528d1001')\"\n",
              "            title=\"Convert this dataframe to an interactive table.\"\n",
              "            style=\"display:none;\">\n",
              "\n",
              "  <svg xmlns=\"http://www.w3.org/2000/svg\" height=\"24px\" viewBox=\"0 -960 960 960\">\n",
              "    <path d=\"M120-120v-720h720v720H120Zm60-500h600v-160H180v160Zm220 220h160v-160H400v160Zm0 220h160v-160H400v160ZM180-400h160v-160H180v160Zm440 0h160v-160H620v160ZM180-180h160v-160H180v160Zm440 0h160v-160H620v160Z\"/>\n",
              "  </svg>\n",
              "    </button>\n",
              "\n",
              "  <style>\n",
              "    .colab-df-container {\n",
              "      display:flex;\n",
              "      gap: 12px;\n",
              "    }\n",
              "\n",
              "    .colab-df-convert {\n",
              "      background-color: #E8F0FE;\n",
              "      border: none;\n",
              "      border-radius: 50%;\n",
              "      cursor: pointer;\n",
              "      display: none;\n",
              "      fill: #1967D2;\n",
              "      height: 32px;\n",
              "      padding: 0 0 0 0;\n",
              "      width: 32px;\n",
              "    }\n",
              "\n",
              "    .colab-df-convert:hover {\n",
              "      background-color: #E2EBFA;\n",
              "      box-shadow: 0px 1px 2px rgba(60, 64, 67, 0.3), 0px 1px 3px 1px rgba(60, 64, 67, 0.15);\n",
              "      fill: #174EA6;\n",
              "    }\n",
              "\n",
              "    .colab-df-buttons div {\n",
              "      margin-bottom: 4px;\n",
              "    }\n",
              "\n",
              "    [theme=dark] .colab-df-convert {\n",
              "      background-color: #3B4455;\n",
              "      fill: #D2E3FC;\n",
              "    }\n",
              "\n",
              "    [theme=dark] .colab-df-convert:hover {\n",
              "      background-color: #434B5C;\n",
              "      box-shadow: 0px 1px 3px 1px rgba(0, 0, 0, 0.15);\n",
              "      filter: drop-shadow(0px 1px 2px rgba(0, 0, 0, 0.3));\n",
              "      fill: #FFFFFF;\n",
              "    }\n",
              "  </style>\n",
              "\n",
              "    <script>\n",
              "      const buttonEl =\n",
              "        document.querySelector('#df-577f6fac-7081-4af0-922f-88a4528d1001 button.colab-df-convert');\n",
              "      buttonEl.style.display =\n",
              "        google.colab.kernel.accessAllowed ? 'block' : 'none';\n",
              "\n",
              "      async function convertToInteractive(key) {\n",
              "        const element = document.querySelector('#df-577f6fac-7081-4af0-922f-88a4528d1001');\n",
              "        const dataTable =\n",
              "          await google.colab.kernel.invokeFunction('convertToInteractive',\n",
              "                                                    [key], {});\n",
              "        if (!dataTable) return;\n",
              "\n",
              "        const docLinkHtml = 'Like what you see? Visit the ' +\n",
              "          '<a target=\"_blank\" href=https://colab.research.google.com/notebooks/data_table.ipynb>data table notebook</a>'\n",
              "          + ' to learn more about interactive tables.';\n",
              "        element.innerHTML = '';\n",
              "        dataTable['output_type'] = 'display_data';\n",
              "        await google.colab.output.renderOutput(dataTable, element);\n",
              "        const docLink = document.createElement('div');\n",
              "        docLink.innerHTML = docLinkHtml;\n",
              "        element.appendChild(docLink);\n",
              "      }\n",
              "    </script>\n",
              "  </div>\n",
              "\n",
              "\n",
              "<div id=\"df-67836e9c-7d9c-45df-bd4c-eb320f70c2c1\">\n",
              "  <button class=\"colab-df-quickchart\" onclick=\"quickchart('df-67836e9c-7d9c-45df-bd4c-eb320f70c2c1')\"\n",
              "            title=\"Suggest charts\"\n",
              "            style=\"display:none;\">\n",
              "\n",
              "<svg xmlns=\"http://www.w3.org/2000/svg\" height=\"24px\"viewBox=\"0 0 24 24\"\n",
              "     width=\"24px\">\n",
              "    <g>\n",
              "        <path d=\"M19 3H5c-1.1 0-2 .9-2 2v14c0 1.1.9 2 2 2h14c1.1 0 2-.9 2-2V5c0-1.1-.9-2-2-2zM9 17H7v-7h2v7zm4 0h-2V7h2v10zm4 0h-2v-4h2v4z\"/>\n",
              "    </g>\n",
              "</svg>\n",
              "  </button>\n",
              "\n",
              "<style>\n",
              "  .colab-df-quickchart {\n",
              "      --bg-color: #E8F0FE;\n",
              "      --fill-color: #1967D2;\n",
              "      --hover-bg-color: #E2EBFA;\n",
              "      --hover-fill-color: #174EA6;\n",
              "      --disabled-fill-color: #AAA;\n",
              "      --disabled-bg-color: #DDD;\n",
              "  }\n",
              "\n",
              "  [theme=dark] .colab-df-quickchart {\n",
              "      --bg-color: #3B4455;\n",
              "      --fill-color: #D2E3FC;\n",
              "      --hover-bg-color: #434B5C;\n",
              "      --hover-fill-color: #FFFFFF;\n",
              "      --disabled-bg-color: #3B4455;\n",
              "      --disabled-fill-color: #666;\n",
              "  }\n",
              "\n",
              "  .colab-df-quickchart {\n",
              "    background-color: var(--bg-color);\n",
              "    border: none;\n",
              "    border-radius: 50%;\n",
              "    cursor: pointer;\n",
              "    display: none;\n",
              "    fill: var(--fill-color);\n",
              "    height: 32px;\n",
              "    padding: 0;\n",
              "    width: 32px;\n",
              "  }\n",
              "\n",
              "  .colab-df-quickchart:hover {\n",
              "    background-color: var(--hover-bg-color);\n",
              "    box-shadow: 0 1px 2px rgba(60, 64, 67, 0.3), 0 1px 3px 1px rgba(60, 64, 67, 0.15);\n",
              "    fill: var(--button-hover-fill-color);\n",
              "  }\n",
              "\n",
              "  .colab-df-quickchart-complete:disabled,\n",
              "  .colab-df-quickchart-complete:disabled:hover {\n",
              "    background-color: var(--disabled-bg-color);\n",
              "    fill: var(--disabled-fill-color);\n",
              "    box-shadow: none;\n",
              "  }\n",
              "\n",
              "  .colab-df-spinner {\n",
              "    border: 2px solid var(--fill-color);\n",
              "    border-color: transparent;\n",
              "    border-bottom-color: var(--fill-color);\n",
              "    animation:\n",
              "      spin 1s steps(1) infinite;\n",
              "  }\n",
              "\n",
              "  @keyframes spin {\n",
              "    0% {\n",
              "      border-color: transparent;\n",
              "      border-bottom-color: var(--fill-color);\n",
              "      border-left-color: var(--fill-color);\n",
              "    }\n",
              "    20% {\n",
              "      border-color: transparent;\n",
              "      border-left-color: var(--fill-color);\n",
              "      border-top-color: var(--fill-color);\n",
              "    }\n",
              "    30% {\n",
              "      border-color: transparent;\n",
              "      border-left-color: var(--fill-color);\n",
              "      border-top-color: var(--fill-color);\n",
              "      border-right-color: var(--fill-color);\n",
              "    }\n",
              "    40% {\n",
              "      border-color: transparent;\n",
              "      border-right-color: var(--fill-color);\n",
              "      border-top-color: var(--fill-color);\n",
              "    }\n",
              "    60% {\n",
              "      border-color: transparent;\n",
              "      border-right-color: var(--fill-color);\n",
              "    }\n",
              "    80% {\n",
              "      border-color: transparent;\n",
              "      border-right-color: var(--fill-color);\n",
              "      border-bottom-color: var(--fill-color);\n",
              "    }\n",
              "    90% {\n",
              "      border-color: transparent;\n",
              "      border-bottom-color: var(--fill-color);\n",
              "    }\n",
              "  }\n",
              "</style>\n",
              "\n",
              "  <script>\n",
              "    async function quickchart(key) {\n",
              "      const quickchartButtonEl =\n",
              "        document.querySelector('#' + key + ' button');\n",
              "      quickchartButtonEl.disabled = true;  // To prevent multiple clicks.\n",
              "      quickchartButtonEl.classList.add('colab-df-spinner');\n",
              "      try {\n",
              "        const charts = await google.colab.kernel.invokeFunction(\n",
              "            'suggestCharts', [key], {});\n",
              "      } catch (error) {\n",
              "        console.error('Error during call to suggestCharts:', error);\n",
              "      }\n",
              "      quickchartButtonEl.classList.remove('colab-df-spinner');\n",
              "      quickchartButtonEl.classList.add('colab-df-quickchart-complete');\n",
              "    }\n",
              "    (() => {\n",
              "      let quickchartButtonEl =\n",
              "        document.querySelector('#df-67836e9c-7d9c-45df-bd4c-eb320f70c2c1 button');\n",
              "      quickchartButtonEl.style.display =\n",
              "        google.colab.kernel.accessAllowed ? 'block' : 'none';\n",
              "    })();\n",
              "  </script>\n",
              "</div>\n",
              "\n",
              "  <div id=\"id_22f7c0fa-dac5-4004-9de2-89dc39523207\">\n",
              "    <style>\n",
              "      .colab-df-generate {\n",
              "        background-color: #E8F0FE;\n",
              "        border: none;\n",
              "        border-radius: 50%;\n",
              "        cursor: pointer;\n",
              "        display: none;\n",
              "        fill: #1967D2;\n",
              "        height: 32px;\n",
              "        padding: 0 0 0 0;\n",
              "        width: 32px;\n",
              "      }\n",
              "\n",
              "      .colab-df-generate:hover {\n",
              "        background-color: #E2EBFA;\n",
              "        box-shadow: 0px 1px 2px rgba(60, 64, 67, 0.3), 0px 1px 3px 1px rgba(60, 64, 67, 0.15);\n",
              "        fill: #174EA6;\n",
              "      }\n",
              "\n",
              "      [theme=dark] .colab-df-generate {\n",
              "        background-color: #3B4455;\n",
              "        fill: #D2E3FC;\n",
              "      }\n",
              "\n",
              "      [theme=dark] .colab-df-generate:hover {\n",
              "        background-color: #434B5C;\n",
              "        box-shadow: 0px 1px 3px 1px rgba(0, 0, 0, 0.15);\n",
              "        filter: drop-shadow(0px 1px 2px rgba(0, 0, 0, 0.3));\n",
              "        fill: #FFFFFF;\n",
              "      }\n",
              "    </style>\n",
              "    <button class=\"colab-df-generate\" onclick=\"generateWithVariable('data')\"\n",
              "            title=\"Generate code using this dataframe.\"\n",
              "            style=\"display:none;\">\n",
              "\n",
              "  <svg xmlns=\"http://www.w3.org/2000/svg\" height=\"24px\"viewBox=\"0 0 24 24\"\n",
              "       width=\"24px\">\n",
              "    <path d=\"M7,19H8.4L18.45,9,17,7.55,7,17.6ZM5,21V16.75L18.45,3.32a2,2,0,0,1,2.83,0l1.4,1.43a1.91,1.91,0,0,1,.58,1.4,1.91,1.91,0,0,1-.58,1.4L9.25,21ZM18.45,9,17,7.55Zm-12,3A5.31,5.31,0,0,0,4.9,8.1,5.31,5.31,0,0,0,1,6.5,5.31,5.31,0,0,0,4.9,4.9,5.31,5.31,0,0,0,6.5,1,5.31,5.31,0,0,0,8.1,4.9,5.31,5.31,0,0,0,12,6.5,5.46,5.46,0,0,0,6.5,12Z\"/>\n",
              "  </svg>\n",
              "    </button>\n",
              "    <script>\n",
              "      (() => {\n",
              "      const buttonEl =\n",
              "        document.querySelector('#id_22f7c0fa-dac5-4004-9de2-89dc39523207 button.colab-df-generate');\n",
              "      buttonEl.style.display =\n",
              "        google.colab.kernel.accessAllowed ? 'block' : 'none';\n",
              "\n",
              "      buttonEl.onclick = () => {\n",
              "        google.colab.notebook.generateWithVariable('data');\n",
              "      }\n",
              "      })();\n",
              "    </script>\n",
              "  </div>\n",
              "\n",
              "    </div>\n",
              "  </div>\n"
            ],
            "application/vnd.google.colaboratory.intrinsic+json": {
              "type": "dataframe",
              "variable_name": "data",
              "summary": "{\n  \"name\": \"data\",\n  \"rows\": 2474,\n  \"fields\": [\n    {\n      \"column\": \"Unnamed: 0\",\n      \"properties\": {\n        \"dtype\": \"number\",\n        \"std\": 714,\n        \"min\": 0,\n        \"max\": 2473,\n        \"num_unique_values\": 2474,\n        \"samples\": [\n          873,\n          2037,\n          952\n        ],\n        \"semantic_type\": \"\",\n        \"description\": \"\"\n      }\n    },\n    {\n      \"column\": \"Date\",\n      \"properties\": {\n        \"dtype\": \"object\",\n        \"num_unique_values\": 2474,\n        \"samples\": [\n          \"2018-06-21 00:00:00+00:00\",\n          \"2023-02-06 00:00:00+00:00\",\n          \"2018-10-12 00:00:00+00:00\"\n        ],\n        \"semantic_type\": \"\",\n        \"description\": \"\"\n      }\n    },\n    {\n      \"column\": \"Adj Close\",\n      \"properties\": {\n        \"dtype\": \"number\",\n        \"std\": 110.12044961166932,\n        \"min\": 9.57800006866455,\n        \"max\": 409.9700012207031,\n        \"num_unique_values\": 2421,\n        \"samples\": [\n          13.51533317565918,\n          20.525333404541016,\n          244.13999938964844\n        ],\n        \"semantic_type\": \"\",\n        \"description\": \"\"\n      }\n    },\n    {\n      \"column\": \"Close\",\n      \"properties\": {\n        \"dtype\": \"number\",\n        \"std\": 110.12044961166932,\n        \"min\": 9.57800006866455,\n        \"max\": 409.9700012207031,\n        \"num_unique_values\": 2421,\n        \"samples\": [\n          13.51533317565918,\n          20.525333404541016,\n          244.13999938964844\n        ],\n        \"semantic_type\": \"\",\n        \"description\": \"\"\n      }\n    },\n    {\n      \"column\": \"High\",\n      \"properties\": {\n        \"dtype\": \"number\",\n        \"std\": 112.64327733623803,\n        \"min\": 10.33133316040039,\n        \"max\": 414.4966735839844,\n        \"num_unique_values\": 2356,\n        \"samples\": [\n          23.809999465942383,\n          37.62933349609375,\n          357.4599914550781\n        ],\n        \"semantic_type\": \"\",\n        \"description\": \"\"\n      }\n    },\n    {\n      \"column\": \"Low\",\n      \"properties\": {\n        \"dtype\": \"number\",\n        \"std\": 107.54182975751318,\n        \"min\": 9.403332710266112,\n        \"max\": 405.6666564941406,\n        \"num_unique_values\": 2376,\n        \"samples\": [\n          272.8800048828125,\n          236.88999938964844,\n          16.420000076293945\n        ],\n        \"semantic_type\": \"\",\n        \"description\": \"\"\n      }\n    },\n    {\n      \"column\": \"Open\",\n      \"properties\": {\n        \"dtype\": \"number\",\n        \"std\": 110.20815592054188,\n        \"min\": 9.48799991607666,\n        \"max\": 411.4700012207031,\n        \"num_unique_values\": 2360,\n        \"samples\": [\n          22.631999969482425,\n          16.279333114624023,\n          176.38999938964844\n        ],\n        \"semantic_type\": \"\",\n        \"description\": \"\"\n      }\n    },\n    {\n      \"column\": \"Volume\",\n      \"properties\": {\n        \"dtype\": \"number\",\n        \"std\": 74496189,\n        \"min\": 10620000,\n        \"max\": 914082000,\n        \"num_unique_values\": 2464,\n        \"samples\": [\n          21334500,\n          102629300,\n          64462500\n        ],\n        \"semantic_type\": \"\",\n        \"description\": \"\"\n      }\n    },\n    {\n      \"column\": \"Daily Change TSLA\",\n      \"properties\": {\n        \"dtype\": \"number\",\n        \"std\": 3.579498103272404,\n        \"min\": -21.0628243203908,\n        \"max\": 21.91903507029041,\n        \"num_unique_values\": 2472,\n        \"samples\": [\n          2.291845522943481,\n          -5.064318329763207,\n          3.212224493643445\n        ],\n        \"semantic_type\": \"\",\n        \"description\": \"\"\n      }\n    },\n    {\n      \"column\": \"Rolling Mean TSLA\",\n      \"properties\": {\n        \"dtype\": \"number\",\n        \"std\": 109.54405084257183,\n        \"min\": 0.0,\n        \"max\": 373.1524978637696,\n        \"num_unique_values\": 2456,\n        \"samples\": [\n          32.96456718444824,\n          23.07236652374268,\n          238.63349990844728\n        ],\n        \"semantic_type\": \"\",\n        \"description\": \"\"\n      }\n    },\n    {\n      \"column\": \"Rolling Std TSLA\",\n      \"properties\": {\n        \"dtype\": \"number\",\n        \"std\": 8.640143483821733,\n        \"min\": 0.0,\n        \"max\": 53.38006575625542,\n        \"num_unique_values\": 2456,\n        \"samples\": [\n          4.329433162755257,\n          1.7403572097718076,\n          13.013551839335078\n        ],\n        \"semantic_type\": \"\",\n        \"description\": \"\"\n      }\n    }\n  ]\n}"
            }
          },
          "metadata": {},
          "execution_count": 23
        }
      ]
    },
    {
      "cell_type": "code",
      "source": [
        "from pmdarima import auto_arima"
      ],
      "metadata": {
        "id": "Mt4Xr_67L0iv"
      },
      "execution_count": 24,
      "outputs": []
    },
    {
      "cell_type": "code",
      "source": [
        "data['Date'] = pd.to_datetime(data['Date'])\n",
        "data.set_index('Date', inplace=True)\n",
        "data1['Date'] = pd.to_datetime(data1['Date'])\n",
        "data1.set_index('Date', inplace=True)\n",
        "data2['Date'] = pd.to_datetime(data2['Date'])\n",
        "data2.set_index('Date', inplace=True)"
      ],
      "metadata": {
        "id": "yjEibiueL5Qi"
      },
      "execution_count": 25,
      "outputs": []
    },
    {
      "cell_type": "code",
      "source": [
        "# Split the data into train and test sets\n",
        "train = data.iloc[:int(0.8 * len(data))]\n",
        "test = data.iloc[int(0.8 * len(data)):]\n",
        "\n",
        "# Split the data1 into train and test sets\n",
        "train1 = data1.iloc[:int(0.8 * len(data1))]\n",
        "test1 = data1.iloc[int(0.8 * len(data1)):]\n",
        "\n",
        "# Split the data2 into train and test sets\n",
        "train2 = data2.iloc[:int(0.8 * len(data2))]\n",
        "test2 = data2.iloc[int(0.8 * len(data2)):]"
      ],
      "metadata": {
        "id": "d4_dzfT-NJnu"
      },
      "execution_count": 45,
      "outputs": []
    },
    {
      "cell_type": "code",
      "source": [
        "print('TSLA Performing:')\n",
        "arima_order = auto_arima(train['Close'], seasonal=False, trace=True, error_action='ignore', suppress_warnings=True)\n",
        "p, d, q = arima_order.order\n",
        "arima_model = ARIMA(train['Close'], order=(p, d, q)).fit()\n",
        "arima_forecast = arima_model.forecast(steps=len(test))\n",
        "\n",
        "print('BND Performing:')\n",
        "arima_order1 = auto_arima(train1['Close'], seasonal=False, trace=True, error_action='ignore', suppress_warnings=True)\n",
        "p, d, q = arima_order1.order\n",
        "arima_model1 = ARIMA(train1['Close'], order=(p, d, q)).fit()\n",
        "arima_forecast1 = arima_model1.forecast(steps=len(test1))\n",
        "\n",
        "print('SPY Performing:')\n",
        "arima_order2 = auto_arima(train2['Close'], seasonal=False, trace=True, error_action='ignore', suppress_warnings=True)\n",
        "p, d, q = arima_order2.order\n",
        "arima_model2 = ARIMA(train2['Close'], order=(p, d, q)).fit()\n",
        "arima_forecast2 = arima_model2.forecast(steps=len(test2))"
      ],
      "metadata": {
        "colab": {
          "base_uri": "https://localhost:8080/"
        },
        "id": "kAsgcsAJNU-d",
        "outputId": "bec6fd6d-bef7-472f-f653-de040367e09f"
      },
      "execution_count": 55,
      "outputs": [
        {
          "output_type": "stream",
          "name": "stdout",
          "text": [
            "TSLA Performing:\n",
            "Performing stepwise search to minimize aic\n",
            " ARIMA(2,1,2)(0,0,0)[0] intercept   : AIC=12345.046, Time=1.52 sec\n",
            " ARIMA(0,1,0)(0,0,0)[0] intercept   : AIC=12340.889, Time=0.08 sec\n",
            " ARIMA(1,1,0)(0,0,0)[0] intercept   : AIC=12339.852, Time=0.12 sec\n",
            " ARIMA(0,1,1)(0,0,0)[0] intercept   : AIC=12339.956, Time=0.31 sec\n",
            " ARIMA(0,1,0)(0,0,0)[0]             : AIC=12339.337, Time=0.07 sec\n",
            " ARIMA(1,1,1)(0,0,0)[0] intercept   : AIC=12341.053, Time=0.95 sec\n",
            "\n",
            "Best model:  ARIMA(0,1,0)(0,0,0)[0]          \n",
            "Total fit time: 3.071 seconds\n",
            "BND Performing:\n",
            "Performing stepwise search to minimize aic\n"
          ]
        },
        {
          "output_type": "stream",
          "name": "stderr",
          "text": [
            "/usr/local/lib/python3.10/dist-packages/statsmodels/tsa/base/tsa_model.py:473: ValueWarning: A date index has been provided, but it has no associated frequency information and so will be ignored when e.g. forecasting.\n",
            "  self._init_dates(dates, freq)\n",
            "/usr/local/lib/python3.10/dist-packages/statsmodels/tsa/base/tsa_model.py:837: ValueWarning: No supported index is available. Prediction results will be given with an integer index beginning at `start`.\n",
            "  return get_prediction_index(\n",
            "/usr/local/lib/python3.10/dist-packages/statsmodels/tsa/base/tsa_model.py:837: FutureWarning: No supported index is available. In the next version, calling this method in a model without a supported index will result in an exception.\n",
            "  return get_prediction_index(\n"
          ]
        },
        {
          "output_type": "stream",
          "name": "stdout",
          "text": [
            " ARIMA(2,2,2)(0,0,0)[0] intercept   : AIC=inf, Time=7.03 sec\n",
            " ARIMA(0,2,0)(0,0,0)[0] intercept   : AIC=1712.480, Time=0.28 sec\n",
            " ARIMA(1,2,0)(0,0,0)[0] intercept   : AIC=1266.320, Time=0.15 sec\n",
            " ARIMA(0,2,1)(0,0,0)[0] intercept   : AIC=inf, Time=2.39 sec\n",
            " ARIMA(0,2,0)(0,0,0)[0]             : AIC=1710.480, Time=0.11 sec\n",
            " ARIMA(2,2,0)(0,0,0)[0] intercept   : AIC=1020.669, Time=0.50 sec\n",
            " ARIMA(3,2,0)(0,0,0)[0] intercept   : AIC=801.511, Time=0.74 sec\n",
            " ARIMA(4,2,0)(0,0,0)[0] intercept   : AIC=647.040, Time=0.93 sec\n",
            " ARIMA(5,2,0)(0,0,0)[0] intercept   : AIC=588.876, Time=1.08 sec\n",
            " ARIMA(5,2,1)(0,0,0)[0] intercept   : AIC=320.650, Time=8.65 sec\n",
            " ARIMA(4,2,1)(0,0,0)[0] intercept   : AIC=inf, Time=5.07 sec\n",
            " ARIMA(5,2,2)(0,0,0)[0] intercept   : AIC=inf, Time=9.04 sec\n",
            " ARIMA(4,2,2)(0,0,0)[0] intercept   : AIC=inf, Time=6.01 sec\n",
            " ARIMA(5,2,1)(0,0,0)[0]             : AIC=inf, Time=3.69 sec\n",
            "\n",
            "Best model:  ARIMA(5,2,1)(0,0,0)[0] intercept\n",
            "Total fit time: 45.690 seconds\n"
          ]
        },
        {
          "output_type": "stream",
          "name": "stderr",
          "text": [
            "/usr/local/lib/python3.10/dist-packages/statsmodels/tsa/base/tsa_model.py:473: ValueWarning: A date index has been provided, but it has no associated frequency information and so will be ignored when e.g. forecasting.\n",
            "  self._init_dates(dates, freq)\n",
            "/usr/local/lib/python3.10/dist-packages/statsmodels/tsa/base/tsa_model.py:837: ValueWarning: No supported index is available. Prediction results will be given with an integer index beginning at `start`.\n",
            "  return get_prediction_index(\n",
            "/usr/local/lib/python3.10/dist-packages/statsmodels/tsa/base/tsa_model.py:837: FutureWarning: No supported index is available. In the next version, calling this method in a model without a supported index will result in an exception.\n",
            "  return get_prediction_index(\n"
          ]
        },
        {
          "output_type": "stream",
          "name": "stdout",
          "text": [
            "SPY Performing:\n",
            "Performing stepwise search to minimize aic\n",
            " ARIMA(2,1,2)(0,0,0)[0] intercept   : AIC=10608.385, Time=3.09 sec\n",
            " ARIMA(0,1,0)(0,0,0)[0] intercept   : AIC=10698.996, Time=0.08 sec\n",
            " ARIMA(1,1,0)(0,0,0)[0] intercept   : AIC=10682.964, Time=0.16 sec\n",
            " ARIMA(0,1,1)(0,0,0)[0] intercept   : AIC=10684.626, Time=0.37 sec\n",
            " ARIMA(0,1,0)(0,0,0)[0]             : AIC=10698.098, Time=0.09 sec\n",
            " ARIMA(1,1,2)(0,0,0)[0] intercept   : AIC=10682.109, Time=0.97 sec\n",
            " ARIMA(2,1,1)(0,0,0)[0] intercept   : AIC=10682.453, Time=0.94 sec\n",
            " ARIMA(3,1,2)(0,0,0)[0] intercept   : AIC=10609.234, Time=4.70 sec\n",
            " ARIMA(2,1,3)(0,0,0)[0] intercept   : AIC=10683.976, Time=4.66 sec\n",
            " ARIMA(1,1,1)(0,0,0)[0] intercept   : AIC=10681.772, Time=0.70 sec\n",
            " ARIMA(1,1,3)(0,0,0)[0] intercept   : AIC=10682.396, Time=1.77 sec\n",
            " ARIMA(3,1,1)(0,0,0)[0] intercept   : AIC=10683.319, Time=2.08 sec\n",
            " ARIMA(3,1,3)(0,0,0)[0] intercept   : AIC=inf, Time=9.43 sec\n",
            " ARIMA(2,1,2)(0,0,0)[0]             : AIC=10607.671, Time=1.40 sec\n",
            " ARIMA(1,1,2)(0,0,0)[0]             : AIC=10681.322, Time=0.40 sec\n",
            " ARIMA(2,1,1)(0,0,0)[0]             : AIC=10681.675, Time=0.70 sec\n",
            " ARIMA(3,1,2)(0,0,0)[0]             : AIC=10608.454, Time=1.44 sec\n",
            " ARIMA(2,1,3)(0,0,0)[0]             : AIC=10683.323, Time=2.00 sec\n",
            " ARIMA(1,1,1)(0,0,0)[0]             : AIC=10681.071, Time=0.26 sec\n",
            " ARIMA(1,1,3)(0,0,0)[0]             : AIC=10681.742, Time=0.74 sec\n",
            " ARIMA(3,1,1)(0,0,0)[0]             : AIC=10682.662, Time=0.61 sec\n",
            " ARIMA(3,1,3)(0,0,0)[0]             : AIC=inf, Time=6.23 sec\n",
            "\n",
            "Best model:  ARIMA(2,1,2)(0,0,0)[0]          \n",
            "Total fit time: 42.861 seconds\n"
          ]
        },
        {
          "output_type": "stream",
          "name": "stderr",
          "text": [
            "/usr/local/lib/python3.10/dist-packages/statsmodels/tsa/base/tsa_model.py:473: ValueWarning: A date index has been provided, but it has no associated frequency information and so will be ignored when e.g. forecasting.\n",
            "  self._init_dates(dates, freq)\n",
            "/usr/local/lib/python3.10/dist-packages/statsmodels/tsa/base/tsa_model.py:837: ValueWarning: No supported index is available. Prediction results will be given with an integer index beginning at `start`.\n",
            "  return get_prediction_index(\n",
            "/usr/local/lib/python3.10/dist-packages/statsmodels/tsa/base/tsa_model.py:837: FutureWarning: No supported index is available. In the next version, calling this method in a model without a supported index will result in an exception.\n",
            "  return get_prediction_index(\n"
          ]
        }
      ]
    },
    {
      "cell_type": "code",
      "source": [
        "print('Calculate ARIMA metrics for TSLA:')\n",
        "arima_rmse = sqrt(mean_squared_error(test['Close'], arima_forecast))\n",
        "arima_mae = mean_absolute_error(test['Close'], arima_forecast)\n",
        "arima_mape = mean_absolute_percentage_error(test['Close'], arima_forecast)\n",
        "print(\"ARIMA RMSE:\", arima_rmse, \"| MAPE:\", arima_mape , \"| MAE:\", arima_mae)\n",
        "\n",
        "print('Calculate ARIMA metrics for BND:')\n",
        "arima_rmse1 = sqrt(mean_squared_error(test1['Close'], arima_forecast1))\n",
        "arima_mae1 = mean_absolute_error(test1['Close'], arima_forecast1)\n",
        "arima_mape1 = mean_absolute_percentage_error(test1['Close'], arima_forecast1)\n",
        "print(\"ARIMA RMSE:\", arima_rmse1, \"| MAPE:\", arima_mape1 , \"| MAE:\", arima_mae1)\n",
        "\n",
        "print('Calculate ARIMA metrics for SPY:')\n",
        "arima_rmse2 = sqrt(mean_squared_error(test2['Close'], arima_forecast2))\n",
        "arima_mae2 = mean_absolute_error(test2['Close'], arima_forecast2)\n",
        "arima_mape2 = mean_absolute_percentage_error(test2['Close'], arima_forecast2)\n",
        "print(\"ARIMA RMSE:\", arima_rmse2, \"| MAPE:\", arima_mape2 , \"| MAE:\", arima_mae2)"
      ],
      "metadata": {
        "colab": {
          "base_uri": "https://localhost:8080/"
        },
        "id": "XZJPRM-lNmEL",
        "outputId": "8e19c74d-6415-449c-b9e7-fc0921bc2fc4"
      },
      "execution_count": 56,
      "outputs": [
        {
          "output_type": "stream",
          "name": "stdout",
          "text": [
            "Calculate ARIMA metrics for TSLA:\n",
            "ARIMA RMSE: 49.1129918969654 | MAPE: 0.17612209105913845 | MAE: 38.907052519827175\n",
            "Calculate ARIMA metrics for BND:\n",
            "ARIMA RMSE: 15.387247017016076 | MAPE: 0.18990265298823258 | MAE: 13.794437444082337\n",
            "Calculate ARIMA metrics for SPY:\n",
            "ARIMA RMSE: 110.98611716894132 | MAPE: 0.18702696509371264 | MAE: 93.64156201877988\n"
          ]
        }
      ]
    },
    {
      "cell_type": "code",
      "source": [
        "# --- SARIMA Model ---\n",
        "# Determine seasonal parameters using auto_arima with seasonality\n",
        "print('Seasonal Parameters for TSLA:')\n",
        "sarima_order = auto_arima(train['Close'], seasonal=True, m=12, trace=True, error_action='ignore', suppress_warnings=True)\n",
        "p, d, q = sarima_order.order\n",
        "P, D, Q, s = sarima_order.seasonal_order\n",
        "\n",
        "sarima_model = SARIMAX(train['Close'], order=(p, d, q), seasonal_order=(P, D, Q, s)).fit()\n",
        "sarima_forecast = sarima_model.forecast(steps=len(test))\n",
        "\n",
        "print('Seasonal Parameters for BND:')\n",
        "sarima_order1 = auto_arima(train1['Close'], seasonal=True, m=12, trace=True, error_action='ignore', suppress_warnings=True)\n",
        "p, d, q = sarima_order1.order\n",
        "P, D, Q, s = sarima_order1.seasonal_order\n",
        "\n",
        "sarima_model1 = SARIMAX(train1['Close'], order=(p, d, q), seasonal_order=(P, D, Q, s)).fit()\n",
        "sarima_forecast1 = sarima_model1.forecast(steps=len(test1))\n",
        "\n",
        "\n",
        "print('Seasonal Parameters for SPY:')\n",
        "sarima_order2 = auto_arima(train2['Close'], seasonal=True, m=12, trace=True, error_action='ignore', suppress_warnings=True)\n",
        "p, d, q = sarima_order2.order\n",
        "P, D, Q, s = sarima_order2.seasonal_order\n",
        "\n",
        "sarima_model2 = SARIMAX(train2['Close'], order=(p, d, q), seasonal_order=(P, D, Q, s)).fit()\n",
        "sarima_forecast2 = sarima_model2.forecast(steps=len(test2))"
      ],
      "metadata": {
        "colab": {
          "base_uri": "https://localhost:8080/"
        },
        "id": "LUjJTckYOBjz",
        "outputId": "f2fd8e79-ce0a-4639-9350-873355320554"
      },
      "execution_count": 59,
      "outputs": [
        {
          "output_type": "stream",
          "name": "stdout",
          "text": [
            "Seasonal Parameters for TSLA:\n",
            "Performing stepwise search to minimize aic\n",
            " ARIMA(2,1,2)(1,0,1)[12] intercept   : AIC=12337.622, Time=5.03 sec\n",
            " ARIMA(0,1,0)(0,0,0)[12] intercept   : AIC=12340.889, Time=0.08 sec\n",
            " ARIMA(1,1,0)(1,0,0)[12] intercept   : AIC=12340.375, Time=0.99 sec\n",
            " ARIMA(0,1,1)(0,0,1)[12] intercept   : AIC=12340.797, Time=1.24 sec\n",
            " ARIMA(0,1,0)(0,0,0)[12]             : AIC=12339.337, Time=0.07 sec\n",
            " ARIMA(2,1,2)(0,0,1)[12] intercept   : AIC=12345.594, Time=6.18 sec\n",
            " ARIMA(2,1,2)(1,0,0)[12] intercept   : AIC=12345.207, Time=4.37 sec\n",
            " ARIMA(2,1,2)(2,0,1)[12] intercept   : AIC=12315.154, Time=17.43 sec\n",
            " ARIMA(2,1,2)(2,0,0)[12] intercept   : AIC=12313.154, Time=14.12 sec\n",
            " ARIMA(1,1,2)(2,0,0)[12] intercept   : AIC=12311.156, Time=10.51 sec\n",
            " ARIMA(1,1,2)(1,0,0)[12] intercept   : AIC=12343.201, Time=3.07 sec\n",
            " ARIMA(1,1,2)(2,0,1)[12] intercept   : AIC=12313.155, Time=15.83 sec\n",
            " ARIMA(1,1,2)(1,0,1)[12] intercept   : AIC=12335.607, Time=8.39 sec\n",
            " ARIMA(0,1,2)(2,0,0)[12] intercept   : AIC=12309.410, Time=4.31 sec\n",
            " ARIMA(0,1,2)(1,0,0)[12] intercept   : AIC=12341.637, Time=1.46 sec\n",
            " ARIMA(0,1,2)(2,0,1)[12] intercept   : AIC=12311.409, Time=10.63 sec\n",
            " ARIMA(0,1,2)(1,0,1)[12] intercept   : AIC=12334.244, Time=2.82 sec\n",
            " ARIMA(0,1,1)(2,0,0)[12] intercept   : AIC=12308.605, Time=3.65 sec\n",
            " ARIMA(0,1,1)(1,0,0)[12] intercept   : AIC=12340.495, Time=1.72 sec\n",
            " ARIMA(0,1,1)(2,0,1)[12] intercept   : AIC=12310.604, Time=7.02 sec\n",
            " ARIMA(0,1,1)(1,0,1)[12] intercept   : AIC=12333.451, Time=2.52 sec\n",
            " ARIMA(0,1,0)(2,0,0)[12] intercept   : AIC=12309.188, Time=2.77 sec\n",
            " ARIMA(1,1,1)(2,0,0)[12] intercept   : AIC=12309.266, Time=7.96 sec\n",
            " ARIMA(1,1,0)(2,0,0)[12] intercept   : AIC=12308.477, Time=3.64 sec\n",
            " ARIMA(1,1,0)(2,0,1)[12] intercept   : AIC=12310.476, Time=8.95 sec\n",
            " ARIMA(1,1,0)(1,0,1)[12] intercept   : AIC=12333.322, Time=2.27 sec\n",
            " ARIMA(2,1,0)(2,0,0)[12] intercept   : AIC=12309.351, Time=5.03 sec\n",
            " ARIMA(2,1,1)(2,0,0)[12] intercept   : AIC=12309.810, Time=17.05 sec\n",
            " ARIMA(1,1,0)(2,0,0)[12]             : AIC=12306.786, Time=0.97 sec\n",
            " ARIMA(1,1,0)(1,0,0)[12]             : AIC=12338.831, Time=0.33 sec\n",
            " ARIMA(1,1,0)(2,0,1)[12]             : AIC=12308.784, Time=4.05 sec\n",
            " ARIMA(1,1,0)(1,0,1)[12]             : AIC=12331.653, Time=1.35 sec\n",
            " ARIMA(0,1,0)(2,0,0)[12]             : AIC=12307.472, Time=0.75 sec\n",
            " ARIMA(2,1,0)(2,0,0)[12]             : AIC=12307.640, Time=1.17 sec\n",
            " ARIMA(1,1,1)(2,0,0)[12]             : AIC=12307.566, Time=1.70 sec\n",
            " ARIMA(0,1,1)(2,0,0)[12]             : AIC=12306.913, Time=0.99 sec\n",
            " ARIMA(2,1,1)(2,0,0)[12]             : AIC=12308.052, Time=3.43 sec\n",
            "\n",
            "Best model:  ARIMA(1,1,0)(2,0,0)[12]          \n",
            "Total fit time: 183.959 seconds\n"
          ]
        },
        {
          "output_type": "stream",
          "name": "stderr",
          "text": [
            "/usr/local/lib/python3.10/dist-packages/statsmodels/tsa/base/tsa_model.py:473: ValueWarning: A date index has been provided, but it has no associated frequency information and so will be ignored when e.g. forecasting.\n",
            "  self._init_dates(dates, freq)\n",
            "/usr/local/lib/python3.10/dist-packages/statsmodels/tsa/base/tsa_model.py:837: ValueWarning: No supported index is available. Prediction results will be given with an integer index beginning at `start`.\n",
            "  return get_prediction_index(\n",
            "/usr/local/lib/python3.10/dist-packages/statsmodels/tsa/base/tsa_model.py:837: FutureWarning: No supported index is available. In the next version, calling this method in a model without a supported index will result in an exception.\n",
            "  return get_prediction_index(\n"
          ]
        },
        {
          "output_type": "stream",
          "name": "stdout",
          "text": [
            "Seasonal Parameters for BND:\n",
            "Performing stepwise search to minimize aic\n",
            " ARIMA(2,2,2)(1,0,1)[12]             : AIC=inf, Time=10.42 sec\n",
            " ARIMA(0,2,0)(0,0,0)[12]             : AIC=1710.480, Time=0.10 sec\n",
            " ARIMA(1,2,0)(1,0,0)[12]             : AIC=1249.161, Time=0.47 sec\n",
            " ARIMA(0,2,1)(0,0,1)[12]             : AIC=inf, Time=1.20 sec\n",
            " ARIMA(1,2,0)(0,0,0)[12]             : AIC=1264.320, Time=0.13 sec\n",
            " ARIMA(1,2,0)(2,0,0)[12]             : AIC=1247.880, Time=1.08 sec\n",
            " ARIMA(1,2,0)(2,0,1)[12]             : AIC=1249.830, Time=4.02 sec\n",
            " ARIMA(1,2,0)(1,0,1)[12]             : AIC=1247.755, Time=2.55 sec\n",
            " ARIMA(1,2,0)(0,0,1)[12]             : AIC=1250.574, Time=0.50 sec\n",
            " ARIMA(1,2,0)(1,0,2)[12]             : AIC=1249.882, Time=4.49 sec\n",
            " ARIMA(1,2,0)(0,0,2)[12]             : AIC=1247.896, Time=1.28 sec\n",
            " ARIMA(1,2,0)(2,0,2)[12]             : AIC=1251.706, Time=3.63 sec\n",
            " ARIMA(0,2,0)(1,0,1)[12]             : AIC=1694.901, Time=2.98 sec\n",
            " ARIMA(2,2,0)(1,0,1)[12]             : AIC=1005.782, Time=1.74 sec\n",
            " ARIMA(2,2,0)(0,0,1)[12]             : AIC=1009.369, Time=0.64 sec\n",
            " ARIMA(2,2,0)(1,0,0)[12]             : AIC=1008.308, Time=0.54 sec\n",
            " ARIMA(2,2,0)(2,0,1)[12]             : AIC=1008.476, Time=3.79 sec\n",
            " ARIMA(2,2,0)(1,0,2)[12]             : AIC=1008.441, Time=3.88 sec\n",
            " ARIMA(2,2,0)(0,0,0)[12]             : AIC=1018.669, Time=0.39 sec\n",
            " ARIMA(2,2,0)(0,0,2)[12]             : AIC=1006.470, Time=4.28 sec\n",
            " ARIMA(2,2,0)(2,0,0)[12]             : AIC=1006.498, Time=1.28 sec\n",
            " ARIMA(2,2,0)(2,0,2)[12]             : AIC=1009.742, Time=4.45 sec\n",
            " ARIMA(3,2,0)(1,0,1)[12]             : AIC=783.167, Time=1.66 sec\n",
            " ARIMA(3,2,0)(0,0,1)[12]             : AIC=787.569, Time=0.79 sec\n",
            " ARIMA(3,2,0)(1,0,0)[12]             : AIC=785.890, Time=1.00 sec\n",
            " ARIMA(3,2,0)(2,0,1)[12]             : AIC=783.266, Time=6.69 sec\n",
            " ARIMA(3,2,0)(1,0,2)[12]             : AIC=782.888, Time=3.90 sec\n",
            " ARIMA(3,2,0)(0,0,2)[12]             : AIC=781.283, Time=1.99 sec\n",
            " ARIMA(4,2,0)(0,0,2)[12]             : AIC=637.788, Time=2.13 sec\n",
            " ARIMA(4,2,0)(0,0,1)[12]             : AIC=640.825, Time=0.99 sec\n",
            " ARIMA(4,2,0)(1,0,2)[12]             : AIC=639.780, Time=8.04 sec\n",
            " ARIMA(4,2,0)(1,0,1)[12]             : AIC=638.310, Time=2.24 sec\n",
            " ARIMA(5,2,0)(0,0,2)[12]             : AIC=577.501, Time=2.24 sec\n",
            " ARIMA(5,2,0)(0,0,1)[12]             : AIC=579.085, Time=1.68 sec\n",
            " ARIMA(5,2,0)(1,0,2)[12]             : AIC=579.501, Time=7.52 sec\n",
            " ARIMA(5,2,0)(1,0,1)[12]             : AIC=577.633, Time=2.63 sec\n",
            " ARIMA(5,2,1)(0,0,2)[12]             : AIC=inf, Time=10.29 sec\n",
            " ARIMA(4,2,1)(0,0,2)[12]             : AIC=inf, Time=7.13 sec\n",
            " ARIMA(5,2,0)(0,0,2)[12] intercept   : AIC=579.500, Time=10.88 sec\n",
            "\n",
            "Best model:  ARIMA(5,2,0)(0,0,2)[12]          \n",
            "Total fit time: 125.809 seconds\n"
          ]
        },
        {
          "output_type": "stream",
          "name": "stderr",
          "text": [
            "/usr/local/lib/python3.10/dist-packages/statsmodels/tsa/base/tsa_model.py:473: ValueWarning: A date index has been provided, but it has no associated frequency information and so will be ignored when e.g. forecasting.\n",
            "  self._init_dates(dates, freq)\n",
            "/usr/local/lib/python3.10/dist-packages/statsmodels/tsa/base/tsa_model.py:837: ValueWarning: No supported index is available. Prediction results will be given with an integer index beginning at `start`.\n",
            "  return get_prediction_index(\n",
            "/usr/local/lib/python3.10/dist-packages/statsmodels/tsa/base/tsa_model.py:837: FutureWarning: No supported index is available. In the next version, calling this method in a model without a supported index will result in an exception.\n",
            "  return get_prediction_index(\n"
          ]
        },
        {
          "output_type": "stream",
          "name": "stdout",
          "text": [
            "Seasonal Parameters for SPY:\n",
            "Performing stepwise search to minimize aic\n",
            " ARIMA(2,1,2)(1,0,1)[12] intercept   : AIC=10611.239, Time=11.89 sec\n",
            " ARIMA(0,1,0)(0,0,0)[12] intercept   : AIC=10698.996, Time=0.08 sec\n",
            " ARIMA(1,1,0)(1,0,0)[12] intercept   : AIC=10684.668, Time=0.57 sec\n",
            " ARIMA(0,1,1)(0,0,1)[12] intercept   : AIC=10686.329, Time=1.08 sec\n",
            " ARIMA(0,1,0)(0,0,0)[12]             : AIC=10698.098, Time=0.07 sec\n",
            " ARIMA(2,1,2)(0,0,1)[12] intercept   : AIC=10609.432, Time=9.81 sec\n",
            " ARIMA(2,1,2)(0,0,0)[12] intercept   : AIC=10608.385, Time=3.05 sec\n",
            " ARIMA(2,1,2)(1,0,0)[12] intercept   : AIC=10609.385, Time=10.93 sec\n",
            " ARIMA(1,1,2)(0,0,0)[12] intercept   : AIC=10682.109, Time=0.91 sec\n",
            " ARIMA(2,1,1)(0,0,0)[12] intercept   : AIC=10682.453, Time=0.91 sec\n",
            " ARIMA(3,1,2)(0,0,0)[12] intercept   : AIC=10609.234, Time=2.92 sec\n",
            " ARIMA(2,1,3)(0,0,0)[12] intercept   : AIC=10683.976, Time=3.09 sec\n",
            " ARIMA(1,1,1)(0,0,0)[12] intercept   : AIC=10681.772, Time=2.01 sec\n",
            " ARIMA(1,1,3)(0,0,0)[12] intercept   : AIC=10682.396, Time=3.18 sec\n",
            " ARIMA(3,1,1)(0,0,0)[12] intercept   : AIC=10683.319, Time=2.10 sec\n",
            " ARIMA(3,1,3)(0,0,0)[12] intercept   : AIC=inf, Time=6.43 sec\n",
            " ARIMA(2,1,2)(0,0,0)[12]             : AIC=10607.671, Time=3.28 sec\n",
            " ARIMA(2,1,2)(1,0,0)[12]             : AIC=10608.736, Time=4.58 sec\n",
            " ARIMA(2,1,2)(0,0,1)[12]             : AIC=10608.780, Time=2.82 sec\n",
            " ARIMA(2,1,2)(1,0,1)[12]             : AIC=10610.585, Time=3.63 sec\n",
            " ARIMA(1,1,2)(0,0,0)[12]             : AIC=10681.322, Time=0.37 sec\n",
            " ARIMA(2,1,1)(0,0,0)[12]             : AIC=10681.675, Time=1.07 sec\n",
            " ARIMA(3,1,2)(0,0,0)[12]             : AIC=10608.454, Time=4.07 sec\n",
            " ARIMA(2,1,3)(0,0,0)[12]             : AIC=10683.323, Time=1.91 sec\n",
            " ARIMA(1,1,1)(0,0,0)[12]             : AIC=10681.071, Time=0.26 sec\n",
            " ARIMA(1,1,3)(0,0,0)[12]             : AIC=10681.742, Time=0.76 sec\n",
            " ARIMA(3,1,1)(0,0,0)[12]             : AIC=10682.662, Time=0.59 sec\n",
            " ARIMA(3,1,3)(0,0,0)[12]             : AIC=inf, Time=2.92 sec\n",
            "\n",
            "Best model:  ARIMA(2,1,2)(0,0,0)[12]          \n",
            "Total fit time: 85.376 seconds\n"
          ]
        },
        {
          "output_type": "stream",
          "name": "stderr",
          "text": [
            "/usr/local/lib/python3.10/dist-packages/statsmodels/tsa/base/tsa_model.py:473: ValueWarning: A date index has been provided, but it has no associated frequency information and so will be ignored when e.g. forecasting.\n",
            "  self._init_dates(dates, freq)\n",
            "/usr/local/lib/python3.10/dist-packages/statsmodels/tsa/base/tsa_model.py:837: ValueWarning: No supported index is available. Prediction results will be given with an integer index beginning at `start`.\n",
            "  return get_prediction_index(\n",
            "/usr/local/lib/python3.10/dist-packages/statsmodels/tsa/base/tsa_model.py:837: FutureWarning: No supported index is available. In the next version, calling this method in a model without a supported index will result in an exception.\n",
            "  return get_prediction_index(\n"
          ]
        }
      ]
    },
    {
      "cell_type": "code",
      "source": [
        "# Calculate SARIMA metrics\n",
        "print('Calculate SARIMA metrics for TSLA')\n",
        "sarima_rmse = sqrt(mean_squared_error(test['Close'], sarima_forecast))\n",
        "sarima_mae = mean_absolute_error(test['Close'], sarima_forecast)\n",
        "sarima_mape = mean_absolute_percentage_error(test['Close'], sarima_forecast)\n",
        "print(\"SARIMA RMSE:\", sarima_rmse, \"| MAPE:\", sarima_mape, \"| MAE:\", sarima_mae)\n",
        "\n",
        "print('Calculate SARIMA metrics for BND')\n",
        "sarima_rmse1 = sqrt(mean_squared_error(test1['Close'], sarima_forecast1))\n",
        "sarima_mae1 = mean_absolute_error(test1['Close'], sarima_forecast1)\n",
        "sarima_mape1 = mean_absolute_percentage_error(test1['Close'], sarima_forecast1)\n",
        "print(\"SARIMA RMSE:\", sarima_rmse1, \"| MAPE:\", sarima_mape1, \"| MAE:\", sarima_mae1)\n",
        "\n",
        "print('Calculate SARIMA metrics for SPY')\n",
        "sarima_rmse2 = sqrt(mean_squared_error(test2['Close'], sarima_forecast2))\n",
        "sarima_mae2 = mean_absolute_error(test2['Close'], sarima_forecast2)\n",
        "sarima_mape2 = mean_absolute_percentage_error(test2['Close'], sarima_forecast2)\n",
        "print(\"SARIMA RMSE:\", sarima_rmse2, \"| MAPE:\", sarima_mape2, \"| MAE:\", sarima_mae2)"
      ],
      "metadata": {
        "colab": {
          "base_uri": "https://localhost:8080/"
        },
        "id": "W4h34HY-O1VV",
        "outputId": "78c9219f-a7d4-4658-d5ab-46d13fcecedc"
      },
      "execution_count": 60,
      "outputs": [
        {
          "output_type": "stream",
          "name": "stdout",
          "text": [
            "Calculate SARIMA metrics for TSLA\n",
            "SARIMA RMSE: 55.68690552633029 | MAPE: 0.20261358116663047 | MAE: 45.28501024754087\n",
            "Calculate SARIMA metrics for BND\n",
            "SARIMA RMSE: 2.7246452138825443 | MAPE: 0.03345164386570625 | MAE: 2.4447238793830954\n",
            "Calculate SARIMA metrics for SPY\n",
            "SARIMA RMSE: 110.98611716894132 | MAPE: 0.18702696509371264 | MAE: 93.64156201877988\n"
          ]
        }
      ]
    },
    {
      "cell_type": "markdown",
      "source": [
        "The result for the SARIMA metrics and ARIMA metrics is the same result."
      ],
      "metadata": {
        "id": "3X1DaSRmPiSn"
      }
    },
    {
      "cell_type": "markdown",
      "source": [
        "# --- LSTM Model ---\n",
        "##### Prepare data for LSTM (reshaping and scaling)"
      ],
      "metadata": {
        "id": "ddiiuy5JPXmC"
      }
    },
    {
      "cell_type": "code",
      "source": [
        "from sklearn.preprocessing import MinMaxScaler\n",
        "\n",
        "scaler = MinMaxScaler()\n",
        "scaled_train = scaler.fit_transform(train[['Close']])\n",
        "scaled_test = scaler.transform(test[['Close']])\n",
        "\n",
        "scaled_train1 = scaler.fit_transform(train1[['Close']])\n",
        "scaled_test1 = scaler.transform(test1[['Close']])\n",
        "\n",
        "scaled_train2 = scaler.fit_transform(train2[['Close']])\n",
        "scaled_test2 = scaler.transform(test2[['Close']])"
      ],
      "metadata": {
        "id": "3nny1MlXPPTi"
      },
      "execution_count": 61,
      "outputs": []
    },
    {
      "cell_type": "code",
      "source": [
        "# Convert to sequences for TSLA\n",
        "def create_sequences(data, seq_length):\n",
        "    x, y = [], []\n",
        "    for i in range(len(data) - seq_length):\n",
        "        x.append(data[i:i + seq_length])\n",
        "        y.append(data[i + seq_length])\n",
        "    return np.array(x), np.array(y)\n",
        "\n",
        "seq_length = 10\n",
        "x_train, y_train = create_sequences(scaled_train, seq_length)\n",
        "x_test, y_test = create_sequences(scaled_test, seq_length)"
      ],
      "metadata": {
        "id": "uYmy6tAof9U8"
      },
      "execution_count": 76,
      "outputs": []
    },
    {
      "cell_type": "code",
      "source": [
        "# Convert to sequences for BND\n",
        "def create_sequences(data1, seq_length):\n",
        "    x, y = [], []\n",
        "    for i in range(len(data1) - seq_length):\n",
        "        x.append(data1[i:i + seq_length])\n",
        "        y.append(data1[i + seq_length])\n",
        "    return np.array(x), np.array(y)\n",
        "\n",
        "seq_length = 10\n",
        "x_train1, y_train1 = create_sequences(scaled_train1, seq_length)\n",
        "x_test1, y_test1 = create_sequences(scaled_test1, seq_length)"
      ],
      "metadata": {
        "id": "etpwIHBtgQck"
      },
      "execution_count": 77,
      "outputs": []
    },
    {
      "cell_type": "code",
      "source": [
        "# Convert to sequences for SPY\n",
        "def create_sequences(data2, seq_length):\n",
        "    x, y = [], []\n",
        "    for i in range(len(data2) - seq_length):\n",
        "        x.append(data2[i:i + seq_length])\n",
        "        y.append(data2[i + seq_length])\n",
        "    return np.array(x), np.array(y)\n",
        "\n",
        "seq_length = 10\n",
        "x_train2, y_train2 = create_sequences(scaled_train2, seq_length)\n",
        "x_test2, y_test2 = create_sequences(scaled_test2, seq_length)"
      ],
      "metadata": {
        "id": "2S0HCcGMggla"
      },
      "execution_count": 78,
      "outputs": []
    },
    {
      "cell_type": "code",
      "source": [
        "# Build the LSTM model for TSLA\n",
        "lstm_model = Sequential([\n",
        "    LSTM(50, return_sequences=True, input_shape=(seq_length, 1)),\n",
        "    LSTM(50, return_sequences=False),\n",
        "    Dense(25),\n",
        "    Dense(1)\n",
        "])\n",
        "\n",
        "lstm_model.compile(optimizer='adam', loss='mean_squared_error')\n",
        "lstm_model.fit(x_train, y_train, epochs=10, batch_size=1, verbose=1)"
      ],
      "metadata": {
        "colab": {
          "base_uri": "https://localhost:8080/"
        },
        "id": "eqPKGIYiP2g2",
        "outputId": "d260e5a8-0431-4885-d9ca-d20399cd5092"
      },
      "execution_count": 79,
      "outputs": [
        {
          "output_type": "stream",
          "name": "stdout",
          "text": [
            "Epoch 1/10\n"
          ]
        },
        {
          "output_type": "stream",
          "name": "stderr",
          "text": [
            "/usr/local/lib/python3.10/dist-packages/keras/src/layers/rnn/rnn.py:204: UserWarning: Do not pass an `input_shape`/`input_dim` argument to a layer. When using Sequential models, prefer using an `Input(shape)` object as the first layer in the model instead.\n",
            "  super().__init__(**kwargs)\n"
          ]
        },
        {
          "output_type": "stream",
          "name": "stdout",
          "text": [
            "\u001b[1m1969/1969\u001b[0m \u001b[32m━━━━━━━━━━━━━━━━━━━━\u001b[0m\u001b[37m\u001b[0m \u001b[1m13s\u001b[0m 5ms/step - loss: 0.0036\n",
            "Epoch 2/10\n",
            "\u001b[1m1969/1969\u001b[0m \u001b[32m━━━━━━━━━━━━━━━━━━━━\u001b[0m\u001b[37m\u001b[0m \u001b[1m20s\u001b[0m 10ms/step - loss: 9.2170e-04\n",
            "Epoch 3/10\n",
            "\u001b[1m1969/1969\u001b[0m \u001b[32m━━━━━━━━━━━━━━━━━━━━\u001b[0m\u001b[37m\u001b[0m \u001b[1m19s\u001b[0m 10ms/step - loss: 7.6837e-04\n",
            "Epoch 4/10\n",
            "\u001b[1m1969/1969\u001b[0m \u001b[32m━━━━━━━━━━━━━━━━━━━━\u001b[0m\u001b[37m\u001b[0m \u001b[1m28s\u001b[0m 13ms/step - loss: 6.0872e-04\n",
            "Epoch 5/10\n",
            "\u001b[1m1969/1969\u001b[0m \u001b[32m━━━━━━━━━━━━━━━━━━━━\u001b[0m\u001b[37m\u001b[0m \u001b[1m27s\u001b[0m 6ms/step - loss: 5.2624e-04\n",
            "Epoch 6/10\n",
            "\u001b[1m1969/1969\u001b[0m \u001b[32m━━━━━━━━━━━━━━━━━━━━\u001b[0m\u001b[37m\u001b[0m \u001b[1m21s\u001b[0m 7ms/step - loss: 3.6693e-04\n",
            "Epoch 7/10\n",
            "\u001b[1m1969/1969\u001b[0m \u001b[32m━━━━━━━━━━━━━━━━━━━━\u001b[0m\u001b[37m\u001b[0m \u001b[1m15s\u001b[0m 7ms/step - loss: 4.5603e-04\n",
            "Epoch 8/10\n",
            "\u001b[1m1969/1969\u001b[0m \u001b[32m━━━━━━━━━━━━━━━━━━━━\u001b[0m\u001b[37m\u001b[0m \u001b[1m20s\u001b[0m 7ms/step - loss: 4.9319e-04\n",
            "Epoch 9/10\n",
            "\u001b[1m1969/1969\u001b[0m \u001b[32m━━━━━━━━━━━━━━━━━━━━\u001b[0m\u001b[37m\u001b[0m \u001b[1m19s\u001b[0m 7ms/step - loss: 6.7579e-04\n",
            "Epoch 10/10\n",
            "\u001b[1m1969/1969\u001b[0m \u001b[32m━━━━━━━━━━━━━━━━━━━━\u001b[0m\u001b[37m\u001b[0m \u001b[1m15s\u001b[0m 8ms/step - loss: 3.4322e-04\n"
          ]
        },
        {
          "output_type": "execute_result",
          "data": {
            "text/plain": [
              "<keras.src.callbacks.history.History at 0x7c84d03a61d0>"
            ]
          },
          "metadata": {},
          "execution_count": 79
        }
      ]
    },
    {
      "cell_type": "code",
      "source": [
        "# Build the LSTM model for BND\n",
        "lstm_model.compile(optimizer='adam', loss='mean_squared_error')\n",
        "lstm_model.fit(x_train1, y_train1, epochs=10, batch_size=1, verbose=1)"
      ],
      "metadata": {
        "colab": {
          "base_uri": "https://localhost:8080/"
        },
        "id": "PLAU2slHg9E2",
        "outputId": "6feb4f92-10ea-4c30-c393-def35b48b3c1"
      },
      "execution_count": 80,
      "outputs": [
        {
          "output_type": "stream",
          "name": "stdout",
          "text": [
            "Epoch 1/10\n",
            "\u001b[1m1969/1969\u001b[0m \u001b[32m━━━━━━━━━━━━━━━━━━━━\u001b[0m\u001b[37m\u001b[0m \u001b[1m18s\u001b[0m 7ms/step - loss: 2.9353e-04\n",
            "Epoch 2/10\n",
            "\u001b[1m1969/1969\u001b[0m \u001b[32m━━━━━━━━━━━━━━━━━━━━\u001b[0m\u001b[37m\u001b[0m \u001b[1m15s\u001b[0m 8ms/step - loss: 3.6934e-04\n",
            "Epoch 3/10\n",
            "\u001b[1m1969/1969\u001b[0m \u001b[32m━━━━━━━━━━━━━━━━━━━━\u001b[0m\u001b[37m\u001b[0m \u001b[1m15s\u001b[0m 8ms/step - loss: 2.2867e-04\n",
            "Epoch 4/10\n",
            "\u001b[1m1969/1969\u001b[0m \u001b[32m━━━━━━━━━━━━━━━━━━━━\u001b[0m\u001b[37m\u001b[0m \u001b[1m19s\u001b[0m 7ms/step - loss: 2.7750e-04\n",
            "Epoch 5/10\n",
            "\u001b[1m1969/1969\u001b[0m \u001b[32m━━━━━━━━━━━━━━━━━━━━\u001b[0m\u001b[37m\u001b[0m \u001b[1m21s\u001b[0m 8ms/step - loss: 2.5851e-04\n",
            "Epoch 6/10\n",
            "\u001b[1m1969/1969\u001b[0m \u001b[32m━━━━━━━━━━━━━━━━━━━━\u001b[0m\u001b[37m\u001b[0m \u001b[1m22s\u001b[0m 9ms/step - loss: 3.5820e-04\n",
            "Epoch 7/10\n",
            "\u001b[1m1969/1969\u001b[0m \u001b[32m━━━━━━━━━━━━━━━━━━━━\u001b[0m\u001b[37m\u001b[0m \u001b[1m18s\u001b[0m 7ms/step - loss: 3.5509e-04\n",
            "Epoch 8/10\n",
            "\u001b[1m1969/1969\u001b[0m \u001b[32m━━━━━━━━━━━━━━━━━━━━\u001b[0m\u001b[37m\u001b[0m \u001b[1m14s\u001b[0m 7ms/step - loss: 2.9327e-04\n",
            "Epoch 9/10\n",
            "\u001b[1m1969/1969\u001b[0m \u001b[32m━━━━━━━━━━━━━━━━━━━━\u001b[0m\u001b[37m\u001b[0m \u001b[1m27s\u001b[0m 11ms/step - loss: 2.5020e-04\n",
            "Epoch 10/10\n",
            "\u001b[1m1969/1969\u001b[0m \u001b[32m━━━━━━━━━━━━━━━━━━━━\u001b[0m\u001b[37m\u001b[0m \u001b[1m15s\u001b[0m 7ms/step - loss: 3.1571e-04\n"
          ]
        },
        {
          "output_type": "execute_result",
          "data": {
            "text/plain": [
              "<keras.src.callbacks.history.History at 0x7c84d03a5270>"
            ]
          },
          "metadata": {},
          "execution_count": 80
        }
      ]
    },
    {
      "cell_type": "code",
      "source": [
        "# Build the LSTM model for SPY\n",
        "lstm_model.compile(optimizer='adam', loss='mean_squared_error')\n",
        "lstm_model.fit(x_train2, y_train2, epochs=10, batch_size=1, verbose=1)"
      ],
      "metadata": {
        "colab": {
          "base_uri": "https://localhost:8080/"
        },
        "id": "rqPn_9gkhD05",
        "outputId": "73b57d64-d21d-41ca-b56d-1d4a8f881260"
      },
      "execution_count": 81,
      "outputs": [
        {
          "output_type": "stream",
          "name": "stdout",
          "text": [
            "Epoch 1/10\n",
            "\u001b[1m1969/1969\u001b[0m \u001b[32m━━━━━━━━━━━━━━━━━━━━\u001b[0m\u001b[37m\u001b[0m \u001b[1m19s\u001b[0m 8ms/step - loss: 2.7905e-04\n",
            "Epoch 2/10\n",
            "\u001b[1m1969/1969\u001b[0m \u001b[32m━━━━━━━━━━━━━━━━━━━━\u001b[0m\u001b[37m\u001b[0m \u001b[1m26s\u001b[0m 11ms/step - loss: 2.4356e-04\n",
            "Epoch 3/10\n",
            "\u001b[1m1969/1969\u001b[0m \u001b[32m━━━━━━━━━━━━━━━━━━━━\u001b[0m\u001b[37m\u001b[0m \u001b[1m47s\u001b[0m 14ms/step - loss: 2.3649e-04\n",
            "Epoch 4/10\n",
            "\u001b[1m1969/1969\u001b[0m \u001b[32m━━━━━━━━━━━━━━━━━━━━\u001b[0m\u001b[37m\u001b[0m \u001b[1m28s\u001b[0m 7ms/step - loss: 2.6625e-04\n",
            "Epoch 5/10\n",
            "\u001b[1m1969/1969\u001b[0m \u001b[32m━━━━━━━━━━━━━━━━━━━━\u001b[0m\u001b[37m\u001b[0m \u001b[1m15s\u001b[0m 8ms/step - loss: 2.4806e-04\n",
            "Epoch 6/10\n",
            "\u001b[1m1969/1969\u001b[0m \u001b[32m━━━━━━━━━━━━━━━━━━━━\u001b[0m\u001b[37m\u001b[0m \u001b[1m20s\u001b[0m 7ms/step - loss: 2.5189e-04\n",
            "Epoch 7/10\n",
            "\u001b[1m1969/1969\u001b[0m \u001b[32m━━━━━━━━━━━━━━━━━━━━\u001b[0m\u001b[37m\u001b[0m \u001b[1m22s\u001b[0m 8ms/step - loss: 2.6309e-04\n",
            "Epoch 8/10\n",
            "\u001b[1m1969/1969\u001b[0m \u001b[32m━━━━━━━━━━━━━━━━━━━━\u001b[0m\u001b[37m\u001b[0m \u001b[1m19s\u001b[0m 8ms/step - loss: 2.9974e-04\n",
            "Epoch 9/10\n",
            "\u001b[1m1969/1969\u001b[0m \u001b[32m━━━━━━━━━━━━━━━━━━━━\u001b[0m\u001b[37m\u001b[0m \u001b[1m15s\u001b[0m 8ms/step - loss: 2.5415e-04\n",
            "Epoch 10/10\n",
            "\u001b[1m1969/1969\u001b[0m \u001b[32m━━━━━━━━━━━━━━━━━━━━\u001b[0m\u001b[37m\u001b[0m \u001b[1m21s\u001b[0m 8ms/step - loss: 2.4603e-04\n"
          ]
        },
        {
          "output_type": "execute_result",
          "data": {
            "text/plain": [
              "<keras.src.callbacks.history.History at 0x7c84d03a5360>"
            ]
          },
          "metadata": {},
          "execution_count": 81
        }
      ]
    },
    {
      "cell_type": "code",
      "source": [
        "# Forecast with LSTM for TSLA\n",
        "print('Forecast with LSTM for TSLA')\n",
        "lstm_forecast = lstm_model.predict(x_test)\n",
        "lstm_forecast = scaler.inverse_transform(lstm_forecast)  # Inverse scaling\n",
        "\n",
        "# Forecast with LSTM for BND\n",
        "print('Forecast with LSTM for BND')\n",
        "lstm_forecast1 = lstm_model.predict(x_test1)\n",
        "lstm_forecast1 = scaler.inverse_transform(lstm_forecast1)  # Inverse scaling\n",
        "\n",
        "# Forecast with LSTM for SPY\n",
        "print('Forecast with LSTM for SPY')\n",
        "lstm_forecast2 = lstm_model.predict(x_test2)\n",
        "lstm_forecast2 = scaler.inverse_transform(lstm_forecast2)  # Inverse scaling"
      ],
      "metadata": {
        "colab": {
          "base_uri": "https://localhost:8080/"
        },
        "id": "mSFNtVHmQQoH",
        "outputId": "b5ba8e56-5c5a-4325-e3c9-b958f510c70e"
      },
      "execution_count": 83,
      "outputs": [
        {
          "output_type": "stream",
          "name": "stdout",
          "text": [
            "Forecast with LSTM for TSLA\n",
            "\u001b[1m16/16\u001b[0m \u001b[32m━━━━━━━━━━━━━━━━━━━━\u001b[0m\u001b[37m\u001b[0m \u001b[1m0s\u001b[0m 4ms/step\n",
            "Forecast with LSTM for BND\n",
            "\u001b[1m16/16\u001b[0m \u001b[32m━━━━━━━━━━━━━━━━━━━━\u001b[0m\u001b[37m\u001b[0m \u001b[1m0s\u001b[0m 4ms/step\n",
            "Forecast with LSTM for SPY\n",
            "\u001b[1m16/16\u001b[0m \u001b[32m━━━━━━━━━━━━━━━━━━━━\u001b[0m\u001b[37m\u001b[0m \u001b[1m0s\u001b[0m 4ms/step\n"
          ]
        }
      ]
    },
    {
      "cell_type": "code",
      "source": [
        "# Calculate LSTM metrics\n",
        "print('Calculate LSTM metrics for TSLA')\n",
        "lstm_rmse = sqrt(mean_squared_error(test['Close'][seq_length:], lstm_forecast))\n",
        "lstm_mae = mean_absolute_error(test['Close'][seq_length:], lstm_forecast)\n",
        "lstm_mape = mean_absolute_percentage_error(test['Close'][seq_length:], lstm_forecast)\n",
        "print(\"LSTM RMSE:\", lstm_rmse, \"| MAPE:\", lstm_mape, \"| MAE:\", lstm_mae)\n",
        "\n",
        "print('Calculate LSTM metrics for BND')\n",
        "lstm_rmse1 = sqrt(mean_squared_error(test1['Close'][seq_length:], lstm_forecast1))\n",
        "lstm_mae1 = mean_absolute_error(test1['Close'][seq_length:], lstm_forecast1)\n",
        "lstm_mape1 = mean_absolute_percentage_error(test1['Close'][seq_length:], lstm_forecast1)\n",
        "print(\"LSTM RMSE:\", lstm_rmse1, \"| MAPE:\", lstm_mape1, \"| MAE:\", lstm_mae1)\n",
        "\n",
        "print('Calculate LSTM metrics for SPY')\n",
        "lstm_rmse2 = sqrt(mean_squared_error(test2['Close'][seq_length:], lstm_forecast2))\n",
        "lstm_mae2 = mean_absolute_error(test2['Close'][seq_length:], lstm_forecast2)\n",
        "lstm_mape2 = mean_absolute_percentage_error(test2['Close'][seq_length:], lstm_forecast2)\n",
        "print(\"LSTM RMSE:\", lstm_rmse2, \"| MAPE:\", lstm_mape2, \"| MAE:\", lstm_mae2)"
      ],
      "metadata": {
        "colab": {
          "base_uri": "https://localhost:8080/"
        },
        "id": "lPSUBVeVQT8W",
        "outputId": "4288aebb-ef99-4b3b-c435-b966678de058"
      },
      "execution_count": 84,
      "outputs": [
        {
          "output_type": "stream",
          "name": "stdout",
          "text": [
            "Calculate LSTM metrics for TSLA\n",
            "LSTM RMSE: 125.3663372408058 | MAPE: 0.6332735152389819 | MAE: 124.77227924779518\n",
            "Calculate LSTM metrics for BND\n",
            "LSTM RMSE: 161.04990546865852 | MAPE: 2.200872562954933 | MAE: 159.81963661429808\n",
            "Calculate LSTM metrics for SPY\n",
            "LSTM RMSE: 6.919004507328856 | MAPE: 0.010906912141801827 | MAE: 5.3471633753825705\n"
          ]
        }
      ]
    },
    {
      "cell_type": "code",
      "source": [
        "# --- Plot Results ---\n",
        "plt.figure(figsize=(14, 8))\n",
        "plt.plot(train.index, train['Close'], label='Train Data')\n",
        "plt.plot(test.index, test['Close'], label='Test Data', color='orange')\n",
        "plt.plot(test.index, arima_forecast, label='ARIMA Forecast', color='green')\n",
        "plt.plot(test.index, sarima_forecast, label='SARIMA Forecast', color='blue')\n",
        "plt.plot(test.index[seq_length:], lstm_forecast, label='LSTM Forecast', color='red')\n",
        "plt.title('Tesla Stock Price Forecasting')\n",
        "plt.xlabel('Date')\n",
        "plt.ylabel('Close Price')\n",
        "plt.legend()\n",
        "plt.show()"
      ],
      "metadata": {
        "colab": {
          "base_uri": "https://localhost:8080/",
          "height": 422
        },
        "id": "IyXoNqklReO_",
        "outputId": "f1fe7f55-0e24-4887-9ef1-d17c5457983f"
      },
      "execution_count": 85,
      "outputs": [
        {
          "output_type": "display_data",
          "data": {
            "text/plain": [
              "<Figure size 1400x800 with 1 Axes>"
            ],
            "image/png": "[encoded data removed]"
          },
          "metadata": {}
        }
      ]
    },
    {
      "cell_type": "code",
      "source": [
        "# --- Plot Results ---\n",
        "plt.figure(figsize=(14, 8))\n",
        "plt.plot(train1.index, train1['Close'], label='Train Data')\n",
        "plt.plot(test1.index, test1['Close'], label='Test Data', color='orange')\n",
        "plt.plot(test1.index, arima_forecast1, label='ARIMA Forecast', color='green')\n",
        "plt.plot(test1.index, sarima_forecast1, label='SARIMA Forecast', color='blue')\n",
        "plt.plot(test1.index[seq_length:], lstm_forecast1, label='LSTM Forecast', color='red')\n",
        "plt.title('Vanguard Total Bond Market ETF (BND) Stock Price Forecasting')\n",
        "plt.xlabel('Date')\n",
        "plt.ylabel('Close Price')\n",
        "plt.legend()\n",
        "plt.show()"
      ],
      "metadata": {
        "colab": {
          "base_uri": "https://localhost:8080/",
          "height": 422
        },
        "id": "EFuFWJAhe-9_",
        "outputId": "200c74af-4bca-44d7-a405-f34e98d36314"
      },
      "execution_count": 86,
      "outputs": [
        {
          "output_type": "display_data",
          "data": {
            "text/plain": [
              "<Figure size 1400x800 with 1 Axes>"
            ],
            "image/png": "[encoded data removed]"
          },
          "metadata": {}
        }
      ]
    },
    {
      "cell_type": "code",
      "source": [
        "# --- Plot Results ---\n",
        "plt.figure(figsize=(14, 8))\n",
        "plt.plot(train2.index, train2['Close'], label='Train Data')\n",
        "plt.plot(test2.index, test2['Close'], label='Test Data', color='orange')\n",
        "plt.plot(test2.index, arima_forecast2, label='ARIMA Forecast', color='green')\n",
        "plt.plot(test2.index, sarima_forecast2, label='SARIMA Forecast', color='blue')\n",
        "plt.plot(test2.index[seq_length:], lstm_forecast2, label='LSTM Forecast', color='red')\n",
        "plt.title('S&P 500 ETF (SPY) Stock Price Forecasting')\n",
        "plt.xlabel('Date')\n",
        "plt.ylabel('Close Price')\n",
        "plt.legend()\n",
        "plt.show()"
      ],
      "metadata": {
        "colab": {
          "base_uri": "https://localhost:8080/",
          "height": 422
        },
        "id": "yPA1fDyefUIu",
        "outputId": "5cd7af5a-8b8d-4a3b-c46d-366ae98df257"
      },
      "execution_count": 87,
      "outputs": [
        {
          "output_type": "display_data",
          "data": {
            "text/plain": [
              "<Figure size 1400x800 with 1 Axes>"
            ],
            "image/png": "[encoded data removed]"
          },
          "metadata": {}
        }
      ]
    }
  ]
}